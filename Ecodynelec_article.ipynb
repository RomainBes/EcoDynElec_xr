{
 "cells": [
  {
   "cell_type": "markdown",
   "metadata": {},
   "source": [
    "# Assessing carbon intensity of e-fuels:\n",
    "## *a python tool making use of ENTSO-E retrospective time-series of electricity mix*\n",
    "\n",
    "Romain Besseau*, Anne Bouter, Oliver Hurtig, Vincenzo Motola, Nicolae Scarlat.\n",
    "\n",
    "European Commission, Joint Research Center (JRC), Ispra, Italy\n",
    "\n",
    "*Corresponding author: romain.besseau@ec.europa.eu\n",
    "\n",
    "This jupyter notebook contain all the code to transparently produce, and reproduce, the results of the published scientific work."
   ]
  },
  {
   "cell_type": "code",
   "execution_count": null,
   "metadata": {},
   "outputs": [],
   "source": [
    "# extension for automatic code formating\n",
    "%load_ext jupyter_black\n",
    "# extension for reloading libraries (very useful when code under development)\n",
    "%reload_ext autoreload\n",
    "%autoreload 2"
   ]
  },
  {
   "cell_type": "code",
   "execution_count": 2,
   "metadata": {},
   "outputs": [],
   "source": [
    "# Import of libraries\n",
    "import pandas as pd\n",
    "import geopandas as gpd\n",
    "import numpy as np\n",
    "import xarray as xr\n",
    "import matplotlib.pyplot as plt\n",
    "import sys, os\n",
    "import pycountry\n",
    "import pyprind\n",
    "import scipy\n",
    "\n",
    "plt.style.use(\"ggplot\")"
   ]
  },
  {
   "cell_type": "code",
   "execution_count": 3,
   "metadata": {},
   "outputs": [],
   "source": [
    "import ecodynelec.neighbours\n",
    "import ecodynelec.energy_grouping\n",
    "import ecodynelec.visualisation as viz\n",
    "from ecodynelec.ecodynelec import EcoDynElec_xr\n",
    "from ecodynelec.statistics_LF import *"
   ]
  },
  {
   "cell_type": "code",
   "execution_count": 4,
   "metadata": {},
   "outputs": [],
   "source": [
    "# Init the library, this step creates the required folders\n",
    "ede = EcoDynElec_xr(year=2023)"
   ]
  },
  {
   "cell_type": "markdown",
   "metadata": {},
   "source": [
    "# 1. Data download"
   ]
  },
  {
   "cell_type": "markdown",
   "metadata": {},
   "source": [
    "**The first step consist in downloading the data:**\n",
    " \n",
    "This can be done manually or using the ecodynelec library as done in the code below. More informations can be found [here](https://github.com/ElsevierSoftwareX/SOFTX-D-23-00240/blob/main/examples/downloading.ipynb).\n"
   ]
  },
  {
   "cell_type": "markdown",
   "metadata": {},
   "source": [
    "For the downloading step, the user may need to adjust the dates, and specify their login and password.\n",
    "If not already done, the user needs to register on the [ENSTO-E website](https://transparency.entsoe.eu/dashboard/show).\n",
    "\n",
    "Please note that some companies firewall do not allows SFTP (Secure File Transfert Protocol)."
   ]
  },
  {
   "cell_type": "code",
   "execution_count": 5,
   "metadata": {},
   "outputs": [],
   "source": [
    "config = ede.set_download_config()"
   ]
  },
  {
   "cell_type": "markdown",
   "metadata": {},
   "source": [
    "The download takes a bit of time (it took me 1h30 for one year). The amount of data to download is quite important, but also the data are containted in files that also contains other data, that we will filter later on."
   ]
  },
  {
   "cell_type": "code",
   "execution_count": null,
   "metadata": {},
   "outputs": [],
   "source": [
    "ede.download_ENTSOE_data(force=False)"
   ]
  },
  {
   "cell_type": "markdown",
   "metadata": {},
   "source": [
    "# 2. Data Formating"
   ]
  },
  {
   "cell_type": "markdown",
   "metadata": {},
   "source": [
    "**The second step consist of formatting the data:**\n",
    "\n",
    "As said before, the data are contained in heavy csv files, and those files are so heavy because they contain many other data that the one we need. In this notebook, we propose to extract and save the data in nicely structured and labeled xarray dataset. Then data can be loaded much faster than from the csv."
   ]
  },
  {
   "cell_type": "code",
   "execution_count": null,
   "metadata": {},
   "outputs": [],
   "source": [
    "ede.get_generation_data()"
   ]
  },
  {
   "cell_type": "code",
   "execution_count": null,
   "metadata": {},
   "outputs": [],
   "source": [
    "ede.get_exchange_data()"
   ]
  },
  {
   "cell_type": "markdown",
   "metadata": {},
   "source": [
    "# 3. Data Cleaning"
   ]
  },
  {
   "cell_type": "code",
   "execution_count": 9,
   "metadata": {},
   "outputs": [],
   "source": [
    "import seaborn as sns"
   ]
  },
  {
   "cell_type": "code",
   "execution_count": null,
   "metadata": {},
   "outputs": [],
   "source": [
    "ede.set_download_config()\n",
    "ede.get_generation_data()\n",
    "ede.get_exchange_data()"
   ]
  },
  {
   "cell_type": "code",
   "execution_count": null,
   "metadata": {},
   "outputs": [],
   "source": [
    "# Analysing missing data occurencies\n",
    "df = ede.ds_generation.to_dataframe().unstack([0, 1]).isna().sum().unstack(2) / 8760\n",
    "df = df.replace(0, np.nan).replace(1, np.nan)\n",
    "\n",
    "fig, ax = plt.subplots(figsize=(8, 4))\n",
    "sns.heatmap(\n",
    "    data=df.loc[\"ActualGenerationOutput\"].T.replace(np.nan, 0),\n",
    "    ax=ax,\n",
    "    cmap=\"Reds\",\n",
    "    cbar_kws={\"label\": \"ratio\"},\n",
    "    vmin=0,\n",
    "    xticklabels=True,\n",
    "    yticklabels=True,\n",
    ")\n",
    "ax.set_title(\"Generation missing data\")\n",
    "ax.set_ylabel(\"\")\n",
    "plt.savefig(\"plot/missing_generation_data.png\")\n",
    "\n",
    "fig, ax = plt.subplots(figsize=(8, 4))\n",
    "sns.heatmap(\n",
    "    data=df.loc[\"ActualConsumption\"].T.replace(np.nan, 0),\n",
    "    ax=ax,\n",
    "    cmap=\"Reds\",\n",
    "    cbar_kws={\"label\": \"ratio\"},\n",
    "    vmin=0,\n",
    "    xticklabels=True,\n",
    "    yticklabels=True,\n",
    ")\n",
    "ax.set_title(\"Actual Consumption missing data\")\n",
    "ax.set_ylabel(\"\")\n",
    "\n",
    "df = (\n",
    "    ede.ds_exchange.to_dataframe().FlowValue.unstack([0, 1]).isna().sum().unstack()\n",
    "    / 8760\n",
    ")\n",
    "df = df.replace(0, np.nan).replace(1, np.nan)\n",
    "\n",
    "mask = np.triu(df)\n",
    "fig, ax = plt.subplots(figsize=(11, 8))\n",
    "sns.heatmap(\n",
    "    data=df.replace(np.nan, 0),\n",
    "    ax=ax,\n",
    "    cmap=\"Reds\",\n",
    "    cbar_kws={\"label\": \"ratio\"},\n",
    "    vmin=0,\n",
    "    xticklabels=True,\n",
    "    yticklabels=True,\n",
    "    mask=mask,\n",
    "    square=True,\n",
    ")\n",
    "ax.set_title(\"Exchange missing data\")\n",
    "plt.savefig(\"plot/missing_exchange_data.png\", bbox_inches=\"tight\")"
   ]
  },
  {
   "cell_type": "code",
   "execution_count": null,
   "metadata": {},
   "outputs": [],
   "source": [
    "# Analysing missing data occurencies\n",
    "df = ede.ds_generation.to_dataframe().unstack([0, 1]).isna().sum().unstack(2) / 8760\n",
    "df = df.replace(0, np.nan).replace(1, np.nan)\n",
    "\n",
    "# fig, ax = plt.subplots(2,1, figsize=(12, 4))\n",
    "fig = plt.figure(layout=\"constrained\", figsize=(16, 6))\n",
    "ax = fig.subplot_mosaic(\"AB\")\n",
    "\n",
    "sns.heatmap(\n",
    "    data=df.loc[\"ActualGenerationOutput\"].T.replace(np.nan, 0),\n",
    "    ax=ax[\"A\"],\n",
    "    cmap=\"Reds\",\n",
    "    cbar_kws={\"label\": \"ratio\"},\n",
    "    vmin=0,\n",
    "    xticklabels=True,\n",
    "    yticklabels=True,\n",
    ")\n",
    "ax[\"A\"].set_title(\"Generation missing data\")\n",
    "ax[\"A\"].set_ylabel(\"\")\n",
    "ax[\"A\"].set_xlabel(\"Production Countries\")\n",
    "# plt.savefig(\"plot/missing_generation_data.png\")\n",
    "\n",
    "df = (\n",
    "    ede.ds_exchange.to_dataframe().FlowValue.unstack([0, 1]).isna().sum().unstack()\n",
    "    / 8760\n",
    ")\n",
    "df = df.replace(0, np.nan).replace(1, np.nan)\n",
    "df = df.loc[ede.ds_generation.Countries.values][ede.ds_generation.Countries.values]\n",
    "\n",
    "mask = np.triu(df)\n",
    "sns.heatmap(\n",
    "    data=df.replace(np.nan, 0).T,\n",
    "    ax=ax[\"B\"],\n",
    "    cmap=\"Reds\",\n",
    "    cbar_kws={\"label\": \"ratio\"},\n",
    "    vmin=0,\n",
    "    xticklabels=True,\n",
    "    yticklabels=True,\n",
    "    mask=mask,\n",
    "    # square=True,\n",
    ")\n",
    "ax[\"B\"].set_title(\"Exchange missing data\")\n",
    "plt.savefig(\"plot/missing_data.png\", bbox_inches=\"tight\")"
   ]
  },
  {
   "cell_type": "code",
   "execution_count": null,
   "metadata": {},
   "outputs": [],
   "source": [
    "fig = (\n",
    "    ede.ds_generation_grouped.resample(DateTime=\"D\")\n",
    "    .mean()\n",
    "    .ActualGenerationOutput.plot(\n",
    "        hue=\"Energies\", col=\"Countries\", col_wrap=5, sharey=False\n",
    "    )\n",
    ")\n",
    "plt.savefig(\"plot/generation_time_series.png\", bbox_inches=\"tight\")"
   ]
  },
  {
   "cell_type": "code",
   "execution_count": null,
   "metadata": {},
   "outputs": [],
   "source": [
    "fig, ax = plt.subplots(figsize=(6, 3))\n",
    "ede.ds_generation.sel(Countries=\"FR\").sel(Energies=\"Wind Offshore\").to_dataframe().drop(\n",
    "    [\"Countries\", \"Energies\"], axis=1\n",
    ").plot(alpha=0.4, ax=ax)\n",
    "ax.set_ylabel(\"Power (MW)\")\n",
    "ax.set_title(\"Wind offshore production in France\")"
   ]
  },
  {
   "cell_type": "code",
   "execution_count": null,
   "metadata": {},
   "outputs": [],
   "source": [
    "for countries in [[\"UA\", \"BY\"], [\"GB\", \"IE\"], [\"GB\", \"DK\"]]:\n",
    "    fig, ax = viz.plot_check_exchange_data(countries=countries, ede=ede)\n",
    "    plt.savefig(f\"plot/Exchange_{countries[0]}_{countries[1]}.png\", bbox_inches=\"tight\")"
   ]
  },
  {
   "cell_type": "markdown",
   "metadata": {},
   "source": [
    "UK and DK recently put into service an electric connection [Viking Link](https://en.energinet.dk/infrastructure-projects/projektliste/viking-link/). "
   ]
  },
  {
   "cell_type": "markdown",
   "metadata": {},
   "source": [
    "- Possibility to fill nan values by interp data over some hours.\n",
    "- Otherwise, nan will be treated as 0 in later computation."
   ]
  },
  {
   "cell_type": "markdown",
   "metadata": {},
   "source": [
    "# 4. Data visualisation"
   ]
  },
  {
   "cell_type": "markdown",
   "metadata": {},
   "source": [
    "## Generation data"
   ]
  },
  {
   "cell_type": "code",
   "execution_count": null,
   "metadata": {},
   "outputs": [],
   "source": [
    "viz.plot_generation_data(\n",
    "    country_code=\"IT\",\n",
    "    ds_gen=ede.ds_generation.sel(DateTime=slice(\"2023-01-01\", \"2023-02-01\")),\n",
    ")"
   ]
  },
  {
   "cell_type": "code",
   "execution_count": 17,
   "metadata": {},
   "outputs": [],
   "source": [
    "# As there are sometimes too many categories, we created a new function to add the energy group in the dataset coordinates.\n",
    "# This enable to groupby energy groups and do some visualatisation with a reduced number of energy categories\n",
    "from ecodynelec.energy_grouping import add_energy_groups"
   ]
  },
  {
   "cell_type": "code",
   "execution_count": null,
   "metadata": {},
   "outputs": [],
   "source": [
    "ds_generation_grouped = add_energy_groups(ede.ds_generation)\n",
    "ds_generation_grouped = ds_generation_grouped.sum(dim=\"Subenergies\")\n",
    "ds_generation_grouped"
   ]
  },
  {
   "cell_type": "code",
   "execution_count": null,
   "metadata": {},
   "outputs": [],
   "source": [
    "viz.plot_generation_data(\n",
    "    country_code=\"IT\",\n",
    "    ds_gen=ede.ds_generation_grouped.sel(DateTime=slice(\"2023-01-01\", \"2023-02-01\")),\n",
    "    label_for_unit=\"Power (MW)\",\n",
    ")"
   ]
  },
  {
   "cell_type": "code",
   "execution_count": null,
   "metadata": {},
   "outputs": [],
   "source": [
    "dict_colors = {\n",
    "    \"Wind\": \"lightblue\",\n",
    "    \"Solar\": \"orange\",\n",
    "    \"Other Renewable\": \"#8EBA42\",\n",
    "    \"Hydro\": \"#348ABD\",\n",
    "    \"Nuclear\": \"purple\",\n",
    "    \"Fossil\": \"#777777\",\n",
    "    \"Other\": \"#FFB5B8\",\n",
    "}\n",
    "dict_colors.keys()"
   ]
  },
  {
   "cell_type": "code",
   "execution_count": null,
   "metadata": {},
   "outputs": [],
   "source": [
    "viz.plot_generation_data(\n",
    "    country_code=\"IT\",\n",
    "    ds_gen=ede.ds_generation_grouped.resample(DateTime=\"D\").sum() / 1e3,\n",
    "    label_for_unit=\"Energy (GWh/day)\",\n",
    ")\n",
    "plt.savefig(\"plot/plot_generation_data.png\", bbox_inches=\"tight\")"
   ]
  },
  {
   "cell_type": "markdown",
   "metadata": {},
   "source": [
    "## Exchange data"
   ]
  },
  {
   "cell_type": "code",
   "execution_count": null,
   "metadata": {},
   "outputs": [],
   "source": [
    "viz.plot_exchange_data(\n",
    "    country_code=\"IT\",\n",
    "    ds_exchange=ede.ds_exchange.resample(DateTime=\"D\").sum() / 1e3,\n",
    "    label_for_unit=\"Energy (GWh/day)\",\n",
    ")\n",
    "plt.savefig(\"plot/plot_exchange_data.png\", bbox_inches=\"tight\")"
   ]
  },
  {
   "cell_type": "code",
   "execution_count": null,
   "metadata": {},
   "outputs": [],
   "source": [
    "viz.plot_exchange_data(\n",
    "    country_code=\"IT\",\n",
    "    ds_exchange=ede.ds_exchange.sel(DateTime=slice(\"2023-01-01\", \"2023-02-01\")),\n",
    ")\n",
    "plt.savefig(\"plot/plot_exchange_data.png\", bbox_inches=\"tight\")"
   ]
  },
  {
   "cell_type": "code",
   "execution_count": null,
   "metadata": {},
   "outputs": [],
   "source": [
    "fig, ax = viz.plot_generation_and_trade_data(\n",
    "    country_code=\"IT\",\n",
    "    ds_gen=ede.ds_generation_grouped.resample(DateTime=\"D\").sum() / 1e3,\n",
    "    ds_exchange=ede.ds_exchange.resample(DateTime=\"D\").sum() / 1e3,\n",
    "    label_for_unit=\"Energy (GWh/day)\",\n",
    "    sharey=False,\n",
    ")\n",
    "ax[0].legend(loc=2)\n",
    "ax[1].legend(loc=2)\n",
    "ax[2].legend(loc=2)\n",
    "plt.suptitle(\"\")\n",
    "for axi in ax:\n",
    "    txt = axi.title.get_text()\n",
    "    txt = txt.split(\"in \")[0].split(\"from\")[0]\n",
    "    axi.set_title(txt)\n",
    "plt.savefig(\"plot/plot_generation_and_exchange_data.png\", bbox_inches=\"tight\")"
   ]
  },
  {
   "cell_type": "markdown",
   "metadata": {},
   "source": [
    "## Consumption data"
   ]
  },
  {
   "cell_type": "markdown",
   "metadata": {},
   "source": [
    "Consumption data can be calculated from production and exchanges between countries. However, at that stage, we don't know the \"type\" (fossil, renewable, nuclear, etc) of energy that are exchanged, we will need to run the tracking algorithm to model exchanges and assess the type of electricity that is exchanged. "
   ]
  },
  {
   "cell_type": "code",
   "execution_count": null,
   "metadata": {},
   "outputs": [],
   "source": [
    "ds_conso = ede.get_consumption_data()\n",
    "ds_conso"
   ]
  },
  {
   "cell_type": "code",
   "execution_count": null,
   "metadata": {},
   "outputs": [],
   "source": [
    "# viz.plot_untracked_consumption(    country_code=\"IT\", ds_conso=ds_conso.sel(DateTime=slice(\"2023-01-01\", \"2023-02-01\")))\n",
    "viz.plot_untracked_consumption(\n",
    "    country_code=\"IT\", ds_conso=ds_conso.resample(DateTime=\"D\").mean()\n",
    ")\n",
    "plt.legend(bbox_to_anchor=(1, 1))\n",
    "plt.suptitle(\"\")\n",
    "plt.savefig(\"plot/untracked_consumption_data\", bbox_inches=\"tight\")"
   ]
  },
  {
   "cell_type": "markdown",
   "metadata": {},
   "source": [
    "# 5. Neighbours identification"
   ]
  },
  {
   "cell_type": "markdown",
   "metadata": {},
   "source": [
    "At the border of ENTSO-E data, we have some exchanges with countries for which we don't have data. We calculate the relative weight of exchanges with those data to ensure the impact is marginal."
   ]
  },
  {
   "cell_type": "code",
   "execution_count": 27,
   "metadata": {},
   "outputs": [],
   "source": [
    "list_countries = list(ede.ds_generation.Countries.values)"
   ]
  },
  {
   "cell_type": "code",
   "execution_count": null,
   "metadata": {},
   "outputs": [],
   "source": [
    "list_neighbours_ouside_ENTSOE = list(\n",
    "    set(ede.ds_exchange.Importing_Countries.values)\n",
    "    - set(ede.ds_generation.Countries.values)\n",
    ")\n",
    "list_neighbours_ouside_ENTSOE"
   ]
  },
  {
   "cell_type": "code",
   "execution_count": null,
   "metadata": {},
   "outputs": [],
   "source": [
    "[\n",
    "    pycountry.countries.get(alpha_2=country_code).name\n",
    "    for country_code in list_neighbours_ouside_ENTSOE\n",
    "]  # ENTSOE countries have exchanges with those countries, but we don't have production data for those countries"
   ]
  },
  {
   "cell_type": "code",
   "execution_count": null,
   "metadata": {},
   "outputs": [],
   "source": [
    "df_ratio_neighbours = (\n",
    "    ede.ds_exchange.sel(\n",
    "        Exporting_Countries=list_neighbours_ouside_ENTSOE\n",
    "    ).FlowValue.sum(dim=[\"Importing_Countries\", \"DateTime\"])\n",
    "    / ede.ds_generation.ActualGenerationOutput.sum(\n",
    "        dim=[\"Countries\", \"Energies\", \"DateTime\"]\n",
    "    )\n",
    ").to_dataframe(name=\"Import\")\n",
    "df_ratio_neighbours[\"Export\"] = (\n",
    "    ede.ds_exchange.sel(\n",
    "        Importing_Countries=list_neighbours_ouside_ENTSOE\n",
    "    ).FlowValue.sum(dim=[\"Exporting_Countries\", \"DateTime\"])\n",
    "    / ede.ds_generation.ActualGenerationOutput.sum(\n",
    "        dim=[\"Countries\", \"Energies\", \"DateTime\"]\n",
    "    )\n",
    ").to_dataframe(name=\"Export\")\n",
    "\n",
    "df_ratio_neighbours[\"Net_import\"] = (\n",
    "    df_ratio_neighbours.Import - df_ratio_neighbours.Export\n",
    ")\n",
    "df_ratio_neighbours.index = [\n",
    "    pycountry.countries.get(alpha_2=country_code).name.replace(\" \", \"\\n\")\n",
    "    for country_code in df_ratio_neighbours.index\n",
    "]\n",
    "df_ratio_neighbours"
   ]
  },
  {
   "cell_type": "code",
   "execution_count": null,
   "metadata": {},
   "outputs": [],
   "source": [
    "df_ratio_neighbours.sum()"
   ]
  },
  {
   "cell_type": "markdown",
   "metadata": {},
   "source": [
    "Export and import from neighbours of ENTSO-E countries represent half a percent of the ENTSO-E production. It can locally have a visible impact, if electricity mix with neighbours are really difference. But export and import with those countries are balanced, the net difference if 1 per thousand only."
   ]
  },
  {
   "cell_type": "code",
   "execution_count": null,
   "metadata": {},
   "outputs": [],
   "source": [
    "fig, ax = plt.subplots(figsize=(8, 3))\n",
    "(1000 * df_ratio_neighbours).plot(ax=ax, kind=\"bar\", stacked=False, alpha=0.6, rot=0)\n",
    "ax.set_ylabel(\"Permillage (‰)\")\n",
    "\n",
    "plt.savefig(\"plot/Neighbours_outside_ENTSOE.png\", bbox_inches=\"tight\")\n",
    "ax.set_title(\"Relative weight of exchanges with ENTSO-E neighbours\")"
   ]
  },
  {
   "cell_type": "markdown",
   "metadata": {},
   "source": [
    "## Find neighbours of a list of countries"
   ]
  },
  {
   "cell_type": "code",
   "execution_count": 33,
   "metadata": {},
   "outputs": [],
   "source": [
    "from ecodynelec.neighbours import (\n",
    "    find_neighbours_for_country,\n",
    "    find_neighbours_for_countries,\n",
    ")"
   ]
  },
  {
   "cell_type": "code",
   "execution_count": null,
   "metadata": {},
   "outputs": [],
   "source": [
    "find_neighbours_for_country(\n",
    "    country_code=\"IT\", ds_exchange=ede.ds_exchange.resample(DateTime=\"M\").max()\n",
    ")"
   ]
  },
  {
   "cell_type": "code",
   "execution_count": null,
   "metadata": {},
   "outputs": [],
   "source": [
    "list_external_neighbours = find_neighbours_for_countries(\n",
    "    list_countries=[\"AT\", \"CH\", \"CZ\", \"DE\", \"FR\", \"IT\"],\n",
    "    ds_exchange=ede.ds_exchange.resample(DateTime=\"M\").max(),\n",
    ")\n",
    "list_external_neighbours"
   ]
  },
  {
   "cell_type": "code",
   "execution_count": null,
   "metadata": {},
   "outputs": [],
   "source": [
    "list_external_neighbours = find_neighbours_for_countries(\n",
    "    list_countries=ede.ds_generation.Countries.values,\n",
    "    ds_exchange=ede.ds_exchange.resample(DateTime=\"M\").max(),\n",
    ")\n",
    "list_external_neighbours"
   ]
  },
  {
   "cell_type": "markdown",
   "metadata": {},
   "source": [
    "# 6. Track electricity mix"
   ]
  },
  {
   "cell_type": "markdown",
   "metadata": {},
   "source": [
    "## Influence of net production\n"
   ]
  },
  {
   "cell_type": "code",
   "execution_count": null,
   "metadata": {},
   "outputs": [],
   "source": [
    "dict_ds_mix = {}\n",
    "\n",
    "for i, net_generation in enumerate([True, False]):\n",
    "    print(f\"Net production is {net_generation}\")\n",
    "    ds_mix = ede.track_mix(freq=\"MS\", net_generation=net_generation, force=False)\n",
    "    dict_ds_mix[\n",
    "        net_generation\n",
    "    ] = ds_mix_grouped = ecodynelec.energy_grouping.add_energy_groups(ds_mix)"
   ]
  },
  {
   "cell_type": "code",
   "execution_count": null,
   "metadata": {},
   "outputs": [],
   "source": [
    "country = \"IT\"\n",
    "fig, ax = plt.subplots(1, 2, figsize=(9, 4), sharex=True, sharey=True)\n",
    "\n",
    "for i, (net_generation, ds_mix_grouped) in enumerate(dict_ds_mix.items()):\n",
    "    dfp = (\n",
    "        ds_mix_grouped.sum(dim=\"Subenergies\")\n",
    "        .sel(Consumption_Countries=country)\n",
    "        .drop(\"Consumption_Countries\")\n",
    "        .sum(dim=\"Production_Countries\")\n",
    "        .to_dataset(\"Energies\")\n",
    "        .to_dataframe()\n",
    "    )\n",
    "\n",
    "    dfp.plot(kind=\"area\", stacked=True, alpha=0.4, ax=ax[i])\n",
    "    ax[i].set_title(f\"Net production {net_generation}\")\n",
    "\n",
    "    display(dfp.sum())"
   ]
  },
  {
   "cell_type": "markdown",
   "metadata": {},
   "source": [
    "## Influence of net exchange"
   ]
  },
  {
   "cell_type": "code",
   "execution_count": null,
   "metadata": {},
   "outputs": [],
   "source": [
    "dict_ds_mix = {}\n",
    "\n",
    "for i, net_exchange in enumerate([True, False]):\n",
    "    print(f\"Net generation is {net_exchange}\")\n",
    "    ds_mix = ede.track_mix(freq=\"MS\", net_exchange=net_exchange, force=False)\n",
    "    dict_ds_mix[\n",
    "        net_exchange\n",
    "    ] = ds_mix_grouped = ecodynelec.energy_grouping.add_energy_groups(ds_mix)"
   ]
  },
  {
   "cell_type": "code",
   "execution_count": null,
   "metadata": {},
   "outputs": [],
   "source": [
    "country = \"IT\"\n",
    "fig, ax = plt.subplots(1, 2, figsize=(9, 4), sharex=True, sharey=True)\n",
    "\n",
    "for i, (net_exchange, ds_mix_grouped) in enumerate(dict_ds_mix.items()):\n",
    "    dfp = (\n",
    "        ds_mix_grouped.sum(dim=\"Subenergies\")\n",
    "        .sel(Consumption_Countries=country)\n",
    "        .drop(\"Consumption_Countries\")\n",
    "        .sum(dim=\"Production_Countries\")\n",
    "        .to_dataset(\"Energies\")\n",
    "        .to_dataframe()\n",
    "    )\n",
    "\n",
    "    dfp.plot(kind=\"area\", stacked=True, alpha=0.4, ax=ax[i])\n",
    "    ax[i].set_title(f\"Net exchange {net_exchange}\")\n",
    "\n",
    "    display(dfp.sum())"
   ]
  },
  {
   "cell_type": "markdown",
   "metadata": {},
   "source": [
    "## Calculate for all time step"
   ]
  },
  {
   "cell_type": "code",
   "execution_count": null,
   "metadata": {},
   "outputs": [],
   "source": [
    "for freq in [\"Y\", \"M\", \"W\", \"D\"]:\n",
    "    print(freq)\n",
    "    ds_mix = ede.track_mix(\n",
    "        freq=freq, net_exchange=False, net_generation=True, force=False\n",
    "    )"
   ]
  },
  {
   "cell_type": "code",
   "execution_count": null,
   "metadata": {},
   "outputs": [],
   "source": [
    "ds_mix = ede.track_mix(freq=\"H\", net_exchange=False, net_generation=True, force=False)"
   ]
  },
  {
   "cell_type": "markdown",
   "metadata": {},
   "source": [
    "# 7. Consumption mix analysis"
   ]
  },
  {
   "cell_type": "markdown",
   "metadata": {},
   "source": [
    "## Share of consumption unidentified"
   ]
  },
  {
   "cell_type": "code",
   "execution_count": null,
   "metadata": {},
   "outputs": [],
   "source": [
    "ds_mix = ede.track_mix(\n",
    "    freq=\"A\",\n",
    "    net_exchange=False,\n",
    "    net_generation=True,\n",
    ")"
   ]
  },
  {
   "cell_type": "code",
   "execution_count": null,
   "metadata": {},
   "outputs": [],
   "source": [
    "df = (\n",
    "    ds_mix.sel(Energies=\"Grid\", Production_Countries=\"External_neighbours\")\n",
    "    .drop([\"Production_Countries\", \"Energies\"])\n",
    "    .mean(dim=\"DateTime\")\n",
    "    .to_dataframe(\"External_grid\")\n",
    ")\n",
    "df = df.sort_values(by=\"External_grid\", ascending=False)"
   ]
  },
  {
   "cell_type": "code",
   "execution_count": null,
   "metadata": {},
   "outputs": [],
   "source": [
    "fig, ax = plt.subplots(figsize=(9, 3))\n",
    "(100 * df).plot(ax=ax, kind=\"bar\", alpha=0.7, rot=0)\n",
    "ax.set_title(\"Percentage of electricity imported from non-ENTSOE country\")\n",
    "ax.set_ylabel(\"Pourcentage (%)\")\n",
    "ax.set_ylim([0, 100])\n",
    "plt.tight_layout()\n",
    "plt.savefig(\"plot/Consumption_from_outside_ENTSOE.png\", bbox_inches=\"tight\")"
   ]
  },
  {
   "cell_type": "code",
   "execution_count": null,
   "metadata": {},
   "outputs": [],
   "source": [
    "for country_code in df.sort_values(\"External_grid\", ascending=False).index[0:10]:\n",
    "    try:\n",
    "        country = pycountry.countries.get(alpha_2=country_code)\n",
    "        print(f\"{country_code}:{country.name}\")\n",
    "    except:\n",
    "        print(country_code)"
   ]
  },
  {
   "cell_type": "code",
   "execution_count": null,
   "metadata": {},
   "outputs": [],
   "source": [
    "df = (\n",
    "    ds_mix.sel(Energies=\"Other\")\n",
    "    .drop(\"Energies\")\n",
    "    .mean(dim=\"DateTime\")\n",
    "    .sum(dim=\"Production_Countries\")\n",
    "    .to_dataframe(\"Consumption\")\n",
    ")\n",
    "df[\"Production\"] = (\n",
    "    ds_mix.sel(Energies=\"Other\")\n",
    "    .drop(\"Energies\")\n",
    "    .mean(dim=\"DateTime\")\n",
    "    .sum(dim=\"Consumption_Countries\")\n",
    "    .to_dataframe(\"Production_Countries\")\n",
    ").Production_Countries\n",
    "df = df.sort_values(by=\"Production\", ascending=False)"
   ]
  },
  {
   "cell_type": "code",
   "execution_count": null,
   "metadata": {},
   "outputs": [],
   "source": [
    "fig, ax = plt.subplots(figsize=(12, 4))\n",
    "(100 * df).plot(ax=ax, kind=\"bar\", alpha=0.7, rot=0)\n",
    "ax.set_ylabel(\"Percentage (%)\")\n",
    "ax.set_title('Share of \"Other\" in the electricity mix')\n",
    "plt.savefig(\"plot/consumption_of_other.png\", bbox_inches=\"tight\")"
   ]
  },
  {
   "cell_type": "code",
   "execution_count": null,
   "metadata": {},
   "outputs": [],
   "source": [
    "ecodynelec.visualisation.plot_generation_data(\n",
    "    country_code=\"NL\", ds_gen=ede.ds_generation_grouped.resample(DateTime=\"D\").mean()\n",
    ")"
   ]
  },
  {
   "cell_type": "code",
   "execution_count": null,
   "metadata": {},
   "outputs": [],
   "source": [
    "ede.ds_generation.sel(Countries=\"NL\").mean(\n",
    "    dim=\"DateTime\"\n",
    ").to_dataframe().ActualGenerationOutput.dropna().plot(\n",
    "    kind=\"pie\", stacked=True, autopct=\"%.0f\"\n",
    ")"
   ]
  },
  {
   "cell_type": "markdown",
   "metadata": {},
   "source": [
    "## By energy type and country"
   ]
  },
  {
   "cell_type": "code",
   "execution_count": 51,
   "metadata": {},
   "outputs": [],
   "source": [
    "freq = \"D\"\n",
    "country_code = \"IT\"\n",
    "country_name = pycountry.countries.get(alpha_2=country_code).name"
   ]
  },
  {
   "cell_type": "code",
   "execution_count": null,
   "metadata": {},
   "outputs": [],
   "source": [
    "ds_mix = ede.track_mix(freq=\"D\", grid_loss=None)"
   ]
  },
  {
   "cell_type": "code",
   "execution_count": null,
   "metadata": {},
   "outputs": [],
   "source": [
    "ede.get_dict_country_name()"
   ]
  },
  {
   "cell_type": "code",
   "execution_count": null,
   "metadata": {},
   "outputs": [],
   "source": [
    "ecodynelec.visualisation.plot_prod_conso_and_trade(\n",
    "    country_code=\"IT\",\n",
    "    ds_generation=ede.ds_generation_grouped.resample(DateTime=\"D\").mean(),\n",
    "    ds_consumption_tracked=ede.ds_consumption_tracked_grouped.resample(\n",
    "        DateTime=\"D\"\n",
    "    ).mean(),\n",
    "    ds_consumption_untracked=ede.ds_consumption_untracked.resample(DateTime=\"D\").mean(),\n",
    "    dict_country_name=ede.dict_country_name,\n",
    ")\n",
    "plt.savefig(\"plot/plot_prod_conso_and_trade.png\", bbox_inches=\"tight\")"
   ]
  },
  {
   "cell_type": "code",
   "execution_count": null,
   "metadata": {},
   "outputs": [],
   "source": [
    "for country_code in [\"IT\", \"FR\", \"ES\", \"DE\", \"CH\"]:\n",
    "    ecodynelec.visualisation.plot_prod_conso_and_trade(\n",
    "        country_code=country_code,\n",
    "        ds_generation=ede.ds_generation_grouped.resample(DateTime=\"D\").mean(),\n",
    "        ds_consumption_tracked=ede.ds_consumption_tracked_grouped.resample(\n",
    "            DateTime=\"D\"\n",
    "        ).mean(),\n",
    "        ds_consumption_untracked=ede.ds_consumption_untracked.resample(\n",
    "            DateTime=\"D\"\n",
    "        ).mean(),\n",
    "        dict_country_name=ede.dict_country_name,\n",
    "    )"
   ]
  },
  {
   "cell_type": "markdown",
   "metadata": {},
   "source": [
    "# 8. Footprint of electricity mix"
   ]
  },
  {
   "cell_type": "code",
   "execution_count": null,
   "metadata": {},
   "outputs": [],
   "source": [
    "ede.set_download_config()\n",
    "ede.get_generation_data()\n",
    "ede.get_exchange_data()\n",
    "ede.get_consumption_data()\n",
    "ds_mix = ede.track_mix(\n",
    "    freq=\"H\", net_exchange=False, net_generation=True, grid_loss=\"TRANSL\"\n",
    ")"
   ]
  },
  {
   "cell_type": "code",
   "execution_count": null,
   "metadata": {},
   "outputs": [],
   "source": [
    "ds_EF = ede.get_emission_factor_data()\n",
    "ds_EF"
   ]
  },
  {
   "cell_type": "code",
   "execution_count": null,
   "metadata": {},
   "outputs": [],
   "source": [
    "fig, ax = plt.subplots(figsize=(8, 3.5))\n",
    "dfp = ds_EF.to_dataset(\"Emission_phase\").to_dataframe()\n",
    "dfp = dfp.drop(\n",
    "    [\"Grid\", \"Other\"], axis=0\n",
    ")  # Grid is used for electricity from grid for external neighbours\n",
    "# Remove the three subcategories of hydro to keep only one named Hydro\n",
    "dfp = dfp.loc[[idx for idx in dfp.index if not \"Hydro\" in idx]]\n",
    "dfp.loc[\"Hydro\"] = 0\n",
    "# Idem for wind\n",
    "dfp = dfp.loc[[idx for idx in dfp.index if not \"Wind\" in idx]]\n",
    "dfp.loc[\"Wind\"] = 0\n",
    "dfp[\"Total\"] = dfp.sum(axis=1)\n",
    "dfp = dfp.sort_values(\"Total\")\n",
    "dfp = dfp[[\"Combustion\", \"Upstream\"]]\n",
    "dfp = dfp.drop(\"Marine\", axis=0)\n",
    "(dfp / 3.6).plot(kind=\"barh\", alpha=0.6, ax=ax, stacked=True)\n",
    "ax.set_xlabel(\"g$CO_2$/$MJ_{primary\\_energy}$\")\n",
    "\n",
    "plt.legend(loc=4)\n",
    "ax.set_ylabel(\"\")\n",
    "plt.savefig(\"plot/carbon_intensity_by_source.png\", bbox_inches=\"tight\")\n",
    "ax.set_title(\"Carbon intensity of electricity sources\")"
   ]
  },
  {
   "cell_type": "code",
   "execution_count": null,
   "metadata": {},
   "outputs": [],
   "source": [
    "ede.get_carbon_footprint()"
   ]
  },
  {
   "cell_type": "code",
   "execution_count": 9,
   "metadata": {},
   "outputs": [],
   "source": [
    "# ede.compute()"
   ]
  },
  {
   "cell_type": "code",
   "execution_count": null,
   "metadata": {},
   "outputs": [],
   "source": [
    "ede.get_EU_value()"
   ]
  },
  {
   "cell_type": "code",
   "execution_count": 11,
   "metadata": {},
   "outputs": [],
   "source": [
    "dict_country_name = ede.get_dict_country_name()\n",
    "dict_country_name[\"MD\"] = \"Moldova\""
   ]
  },
  {
   "cell_type": "code",
   "execution_count": null,
   "metadata": {},
   "outputs": [],
   "source": [
    "df = pd.DataFrame()\n",
    "df[\"Consumption_mix\"] = (\n",
    "    ede.ds_CI_grouped.sel(Method=\"Consumption\")\n",
    "    .drop_vars(\"Method\")\n",
    "    .sum(dim=[\"Emission_phase\", \"Energies\", \"Production_Countries\"])\n",
    "    .mean(dim=\"DateTime\")\n",
    "    .to_dataframe(\"CF\")\n",
    ")\n",
    "\n",
    "df[\"Production_mix\"] = (\n",
    "    ede.ds_CI_grouped.sel(Method=\"Production\")\n",
    "    .drop_vars(\"Method\")\n",
    "    .sum(dim=[\"Emission_phase\", \"Energies\"])\n",
    "    .mean(\"Consumption_Countries\")  # value independant over that dimension\n",
    "    .mean(dim=\"DateTime\")\n",
    ").to_dataframe(\"CF\")\n",
    "\n",
    "df.index.name = \"Countries\"\n",
    "df = df.drop(\"GB\")\n",
    "\n",
    "fig, ax = plt.subplots(figsize=(6, 9))\n",
    "\n",
    "ax2 = ax.twiny()\n",
    "\n",
    "dfp = df.rename(dict_country_name).sort_values(by=\"Consumption_mix\")\n",
    "\n",
    "dfp.plot(kind=\"barh\", ax=ax, alpha=0.5)\n",
    "\n",
    "(dfp / 3.6).plot(kind=\"barh\", ax=ax2, alpha=0, legend=False)\n",
    "\n",
    "\n",
    "ax.set_xlabel(\"g$CO_2$eq/$kWh_{electricity}$\")\n",
    "\n",
    "ax2.set_xlabel(\"g$CO_2$eq/$MJ_{electricity}$\")\n",
    "\n",
    "ax2.grid(False)\n",
    "\n",
    "ax.set_title(\"Sorted carbon footprint of electricity mix\")\n",
    "\n",
    "ax.axvline(x=18.3 * 3.6, ls=\"--\", color=\"k\", alpha=0.5, label=\"Threshold*\")\n",
    "ax.axvline(\n",
    "    x=ede.EU_value,\n",
    "    ls=\"--\",\n",
    "    color=\"blue\",\n",
    "    alpha=0.5,\n",
    "    label=\"EU27* average\",\n",
    ")\n",
    "ax.legend()\n",
    "\n",
    "plt.savefig(\"plot/carbon_footprint_sorted.png\", bbox_inches=\"tight\")"
   ]
  },
  {
   "cell_type": "code",
   "execution_count": null,
   "metadata": {},
   "outputs": [],
   "source": [
    "efficiency = 0.65\n",
    "\n",
    "df = pd.DataFrame()\n",
    "df[\"Consumption_mix\"] = (\n",
    "    ede.ds_CI_grouped.sel(Method=\"Consumption\")\n",
    "    .drop_vars(\"Method\")\n",
    "    .sum(dim=[\"Emission_phase\", \"Energies\", \"Production_Countries\"])\n",
    "    .mean(dim=\"DateTime\")\n",
    "    .to_dataframe(\"CF\")\n",
    ")\n",
    "df[\"Production_mix\"] = (\n",
    "    ede.ds_CI_grouped.sel(Method=\"Production\")\n",
    "    .drop_vars(\"Method\")\n",
    "    .sum(dim=[\"Emission_phase\", \"Energies\"])\n",
    "    .mean(\"Consumption_Countries\")  # value independant over that dimension\n",
    "    .mean(dim=\"DateTime\")\n",
    ").to_dataframe(\"CF\")\n",
    "\n",
    "df.index.name = \"Countries\"\n",
    "df = df.drop(\"GB\")\n",
    "df = df / efficiency / 3.6  # gCO2eq/MJ of hydrogene\n",
    "\n",
    "fig, ax = plt.subplots(figsize=(6, 9))\n",
    "dfp = df.rename(dict_country_name).sort_values(by=\"Consumption_mix\")\n",
    "dfp.plot(kind=\"barh\", ax=ax, alpha=0.5)\n",
    "ax.set_xlabel(\"g$CO_2$eq/$MJ_{fuel}$\")\n",
    "ax.set_title(\"Sorted carbon footprint of hydrogen from grid electricity*\")\n",
    "\n",
    "ax.axvline(x=94 * 0.3, ls=\"--\", color=\"k\", alpha=0.5, label=\"Threshold\")\n",
    "ax.axvline(x=94, ls=\"--\", color=\"r\", alpha=0.5, label=\"Fossil fuel comparator\")\n",
    "ax.axvline(\n",
    "    x=ede.EU_value / efficiency / 3.6,\n",
    "    ls=\"--\",\n",
    "    color=\"blue\",\n",
    "    alpha=0.5,\n",
    "    label=\"EU27\",\n",
    ")\n",
    "ax.legend()\n",
    "\n",
    "plt.savefig(\"plot/carbon_footprint_of_H2.png\", bbox_inches=\"tight\")"
   ]
  },
  {
   "cell_type": "code",
   "execution_count": null,
   "metadata": {},
   "outputs": [],
   "source": [
    "print(dfp.shape)\n",
    "display((dfp < 94 * 0.3).sum())\n",
    "display(((dfp >= 94 * 0.3) & (dfp < 94)).sum())\n",
    "display((dfp >= 94).sum())"
   ]
  },
  {
   "cell_type": "code",
   "execution_count": null,
   "metadata": {},
   "outputs": [],
   "source": [
    "fig, ax = plt.subplots(1, 2, figsize=(9, 9), sharey=True)\n",
    "ax0b = ax[0].twiny()\n",
    "\n",
    "# Elec\n",
    "df = pd.DataFrame()\n",
    "df[\"Consumption_mix\"] = (\n",
    "    ede.ds_CI_grouped.sel(Method=\"Consumption\")\n",
    "    .drop_vars(\"Method\")\n",
    "    .sum(dim=[\"Emission_phase\", \"Energies\", \"Production_Countries\"])\n",
    "    .mean(dim=\"DateTime\")\n",
    "    .to_dataframe(\"CF\")\n",
    ")\n",
    "df[\"Production_mix\"] = (\n",
    "    ede.ds_CI_grouped.sel(Method=\"Production\")\n",
    "    .drop_vars(\"Method\")\n",
    "    .sum(dim=[\"Emission_phase\", \"Energies\"])\n",
    "    .mean(\"Consumption_Countries\")  # value independant over that dimension\n",
    "    .mean(dim=\"DateTime\")\n",
    ").to_dataframe(\"CF\")\n",
    "\n",
    "df.index.name = \"Countries\"\n",
    "df = df.drop(\"GB\")\n",
    "dfp = df.rename(dict_country_name).sort_values(by=\"Consumption_mix\", ascending=False)\n",
    "\n",
    "dfp.plot(kind=\"barh\", ax=ax[0], alpha=0.5)\n",
    "(dfp / 3.6).plot(kind=\"barh\", ax=ax0b, alpha=0, legend=False)\n",
    "ax[0].set_xlabel(\"g$CO_2$eq/$kWh_{electricity}$\")\n",
    "ax[0].set_ylabel(\"\")\n",
    "ax0b.set_ylabel(\"\")\n",
    "ax0b.set_xlabel(\"g$CO_2$eq/$MJ_{electricity}$\")\n",
    "ax0b.grid(False)\n",
    "ax[0].set_title(\"A. Carbon intensity of electricity mix\", y=1.07)\n",
    "ax[0].axvline(x=18.3 * 3.6, ls=\"--\", color=\"k\", alpha=0.5, label=\"Threshold*\")\n",
    "ax[0].axvline(\n",
    "    x=ede.EU_value,\n",
    "    ls=\"--\",\n",
    "    color=\"blue\",\n",
    "    alpha=0.5,\n",
    "    label=\"EU27*\",\n",
    ")\n",
    "ax[0].legend()\n",
    "\n",
    "# H2\n",
    "efficiency = 0.65\n",
    "df = df / efficiency / 3.6  # gCO2eq/MJ of hydrogene\n",
    "\n",
    "dfp = df.rename(dict_country_name).sort_values(by=\"Consumption_mix\", ascending=False)\n",
    "dfp.plot(kind=\"barh\", ax=ax[1], alpha=0.5)\n",
    "ax[1].set_xlabel(\"g$CO_2$eq/$MJ_{fuel}$\")\n",
    "ax[1].set_title(\"B. Carbon intensity of e-H$_2$\", y=1.07)\n",
    "\n",
    "ax[1].axvline(x=94 * 0.3, ls=\"--\", color=\"k\", alpha=0.5, label=\"Threshold\")\n",
    "ax[1].axvline(x=94, ls=\"--\", color=\"r\", alpha=0.5, label=\"Fossil fuel comparator\")\n",
    "ax[1].axvline(\n",
    "    x=ede.EU_value / efficiency / 3.6,\n",
    "    ls=\"--\",\n",
    "    color=\"blue\",\n",
    "    alpha=0.5,\n",
    "    label=\"EU27*\",\n",
    ")\n",
    "ax[1].legend()\n",
    "plt.tight_layout()\n",
    "plt.savefig(\"plot/carbon_footprint_elec_H2.png\", bbox_inches=\"tight\")"
   ]
  },
  {
   "cell_type": "code",
   "execution_count": 16,
   "metadata": {},
   "outputs": [],
   "source": [
    "def step_resample(df, timestep):\n",
    "    df2 = df.resample(timestep).mean()\n",
    "    df2.loc[df.index[0]] = np.nan\n",
    "    df2 = df2.sort_index()\n",
    "    df2 = df2.resample(\"D\").first().bfill()\n",
    "    return df2"
   ]
  },
  {
   "cell_type": "code",
   "execution_count": null,
   "metadata": {},
   "outputs": [],
   "source": [
    "country_code = \"AT\"\n",
    "country_name = pycountry.countries.get(alpha_2=country_code).name\n",
    "\n",
    "dfp = pd.DataFrame()\n",
    "dfp[\"Production_mix\"] = (\n",
    "    ede.ds_CI_grouped.sel(Method=\"Production\", Production_Countries=country_code)\n",
    "    .drop_vars(\"Method\")\n",
    "    .sum(dim=[\"Emission_phase\", \"Energies\"])\n",
    "    .mean(\"Consumption_Countries\")  # value independant over that dimension\n",
    "    .to_dataframe(\"CF\")\n",
    "    .CF\n",
    ")\n",
    "\n",
    "dfp[\"Consumption_mix (Daily)\"] = (\n",
    "    ede.ds_CI_grouped.sel(Method=\"Consumption\", Consumption_Countries=country_code)\n",
    "    .drop_vars(\"Method\")\n",
    "    .sum(dim=[\"Emission_phase\", \"Energies\", \"Production_Countries\"])\n",
    "    .to_dataframe(\"CF\")\n",
    "    .CF\n",
    ")\n",
    "dfp = dfp.resample(\"D\").mean() / efficiency / 3.6\n",
    "\n",
    "fig, ax = plt.subplots(figsize=(8, 4))\n",
    "dfp.plot(ax=ax, kind=\"line\", alpha=0.8)\n",
    "dfp2 = step_resample(df=dfp[\"Consumption_mix (Daily)\"], timestep=\"W\")\n",
    "dfp2.plot(\n",
    "    ax=ax, kind=\"line\", alpha=0.8, color=\"orange\", label=\"Consumption_mix (Weekly)\"\n",
    ")\n",
    "dfp2 = step_resample(df=dfp[\"Consumption_mix (Daily)\"], timestep=\"M\")\n",
    "dfp2.plot(\n",
    "    ax=ax, kind=\"line\", alpha=0.8, color=\"green\", label=\"Consumption_mix (Monthly)\"\n",
    ")\n",
    "ax.axhline(y=94 * 0.3, ls=\"--\", c=\"k\", label=\"Threshold\")\n",
    "ax.axhline(y=94, ls=\"--\", c=\"r\", label=\"Fossil fuel comparator\")\n",
    "ax.set_ylabel(\"gCO$_2$eq/MJ$_{fuel}$\")\n",
    "ax.legend(\n",
    "    ncol=2,\n",
    ")\n",
    "plt.ylim([0, 140])\n",
    "plt.xlabel(\"\")\n",
    "\n",
    "plt.savefig(f\"plot/H2_time_series_{country_code}.png\", bbox_inches=\"tight\")\n",
    "ax.set_title(\n",
    "    f\"Comparison of hydrogen carbon intensities related to electricity use in {country_name}\"\n",
    ")"
   ]
  },
  {
   "cell_type": "code",
   "execution_count": null,
   "metadata": {},
   "outputs": [],
   "source": [
    "ds_mix = ede.track_mix(\n",
    "    freq=\"H\", net_exchange=False, net_generation=True, grid_loss=None\n",
    ")\n",
    "ede.get_carbon_footprint()\n",
    "ede.compute()"
   ]
  },
  {
   "cell_type": "code",
   "execution_count": 125,
   "metadata": {},
   "outputs": [],
   "source": [
    "for country_code in []:  # ede.ds_CI.Consumption_Countries.values:\n",
    "    print(country_code)\n",
    "\n",
    "    viz.plot_mix_and_carbon_footprint(country_code=country_code, ede=ede, freq=\"D\")\n",
    "\n",
    "    plt.savefig(f\"plot/country_dashboard_{country_code}.png\", bbox_inches=\"tight\")\n",
    "\n",
    "    plt.close()"
   ]
  },
  {
   "cell_type": "markdown",
   "metadata": {},
   "source": [
    "# Statistical analysis"
   ]
  },
  {
   "cell_type": "code",
   "execution_count": null,
   "metadata": {},
   "outputs": [],
   "source": [
    "config = ede.set_download_config()\n",
    "ede.get_generation_data()\n",
    "ede.get_exchange_data()\n",
    "ede.get_consumption_data()\n",
    "ede.track_mix(\"H\", grid_loss=\"TRANSL\")\n",
    "ede.get_carbon_footprint(grouped=True)\n",
    "ede.compute()\n",
    "# ds_CF = ede.get_carbon_footprint(grouped=False)"
   ]
  },
  {
   "cell_type": "code",
   "execution_count": null,
   "metadata": {},
   "outputs": [],
   "source": [
    "df_TS = get_footprint_time_series(ede.ds_CI)\n",
    "df_TS.head()"
   ]
  },
  {
   "cell_type": "code",
   "execution_count": null,
   "metadata": {},
   "outputs": [],
   "source": [
    "fig, ax = plt.subplots(figsize=(6, 3))\n",
    "df_TS.resample(\"D\").mean().IT.plot(kind=\"area\", stacked=False, alpha=0.3, ax=ax)\n",
    "ax.axhline(y=18 * 3.6, ls=\"--\", color=\"k\", alpha=0.4)"
   ]
  },
  {
   "cell_type": "code",
   "execution_count": null,
   "metadata": {},
   "outputs": [],
   "source": [
    "df_LF = get_load_factor_below_limit(df_TS)\n",
    "df_LF.head()"
   ]
  },
  {
   "cell_type": "code",
   "execution_count": null,
   "metadata": {},
   "outputs": [],
   "source": [
    "df_LF.sort_values(\"Production_mix\", ascending=False)"
   ]
  },
  {
   "cell_type": "code",
   "execution_count": null,
   "metadata": {},
   "outputs": [],
   "source": [
    "fig, ax = plt.subplots(figsize=(12, 3))\n",
    "ax2 = ax.twinx()\n",
    "\n",
    "\n",
    "df_LF.drop(\"GB\").sort_values(\"Consumption_mix\", ascending=True)[\n",
    "    [\"Production_mix\", \"Consumption_mix\"]\n",
    "].plot(kind=\"bar\", ax=ax, alpha=0.6, rot=60)\n",
    "ax.set_xlabel(\"\")\n",
    "\n",
    "\n",
    "ax.set_ylabel(\"Time percentage (%) \\nbelow the threshold\")\n",
    "ax.set_title(\n",
    "    f'Percentage of time below the 18 gCO$_2$eq/MJ limit for \"green\" hydrogen production in {ede.year}'\n",
    ")\n",
    "ax2.set_ylim([ax.get_ylim()[0] * 8760, ax.get_ylim()[1] * 8760])\n",
    "ax2.grid(False)\n",
    "ax2.set_ylabel(\"Annual number of hours \\nbelow the threshold\")\n",
    "plt.tight_layout()\n",
    "plt.savefig(\"plot/results_LF_below_limit.png\", bbox_inches=\"tight\")"
   ]
  },
  {
   "cell_type": "code",
   "execution_count": 143,
   "metadata": {},
   "outputs": [],
   "source": [
    "gdf_LF = get_geodraframe(df_LF)"
   ]
  },
  {
   "cell_type": "code",
   "execution_count": null,
   "metadata": {},
   "outputs": [],
   "source": [
    "plot_statistics_map(gdf_LF)\n",
    "plt.savefig(\"plot/results_maps_LF_below_limit.png\", bbox_inches=\"tight\")"
   ]
  },
  {
   "cell_type": "markdown",
   "metadata": {},
   "source": [
    "# Influence of time step"
   ]
  },
  {
   "cell_type": "code",
   "execution_count": null,
   "metadata": {},
   "outputs": [],
   "source": [
    "config = ede.set_download_config()\n",
    "ede.get_generation_data()\n",
    "ede.get_exchange_data()"
   ]
  },
  {
   "cell_type": "markdown",
   "metadata": {},
   "source": [
    "## On the averaged carbon footprint"
   ]
  },
  {
   "cell_type": "code",
   "execution_count": null,
   "metadata": {},
   "outputs": [],
   "source": [
    "list_avg_value = []\n",
    "for timestep in [\"H\", \"D\", \"W\", \"MS\", \"YS\"]:  #\n",
    "    print(timestep)\n",
    "    ds_mix = ede.track_mix(freq=timestep, grouped=False, grid_loss=\"TRANSL\")\n",
    "    ede.get_carbon_footprint(grouped=False)\n",
    "    df_TS = get_footprint_time_series(ds_CI=ede.ds_CI.compute())\n",
    "    list_avg_value.append(\n",
    "        pd.concat(\n",
    "            [df_TS.resample(\"A\").mean()], axis=0, keys=[timestep.replace(\"S\", \"\")]\n",
    "        )\n",
    "    )\n",
    "DF_avg = pd.concat(list_avg_value, axis=0)"
   ]
  },
  {
   "cell_type": "code",
   "execution_count": 180,
   "metadata": {},
   "outputs": [],
   "source": [
    "DF_avg.droplevel(1, axis=0).to_pickle(f\"{ede.datapath}/results/DF_avg.pkl\")"
   ]
  },
  {
   "cell_type": "code",
   "execution_count": 181,
   "metadata": {},
   "outputs": [],
   "source": [
    "DF_avg = pd.read_pickle(f\"{ede.datapath}/results/DF_avg.pkl\")\n",
    "DF_avg = DF_avg.drop(\"GB\", axis=1, level=0)\n",
    "DF_avg = DF_avg.rename(\n",
    "    index={\"H\": \"Hourly\", \"D\": \"Daily\", \"W\": \"Weekly\", \"M\": \"Monthly\", \"Y\": \"Yearly\"}\n",
    ")"
   ]
  },
  {
   "cell_type": "code",
   "execution_count": null,
   "metadata": {},
   "outputs": [],
   "source": [
    "DF_avg.head()"
   ]
  },
  {
   "cell_type": "code",
   "execution_count": null,
   "metadata": {},
   "outputs": [],
   "source": [
    "fig, ax = plt.subplots(1, 1, figsize=(12, 4), sharex=True, sharey=True)\n",
    "ax2 = ax.twinx()\n",
    "# DF_avg.swaplevel(0, 1, axis=1).Production_mix.T.plot(kind=\"bar\", ax=ax[0], alpha=0.6)\n",
    "dfp = DF_avg.swaplevel(0, 1, axis=1).Consumption_mix.T\n",
    "dfp = dfp.sort_values(\"Hourly\")\n",
    "dfp.plot(kind=\"bar\", ax=ax, alpha=0.6, rot=45, legend=False)\n",
    "ax.set_ylabel(\"Annual average carbon intensity \\n (gCO2eq/kWh)\")\n",
    "\n",
    "ax.axhline(y=18.3 * 3.6, ls=\"--\", c=\"k\", label=\"Threshold*\")\n",
    "ax.legend(loc=2)\n",
    "ax2.grid(False)\n",
    "ax2.set_ylim([ax.get_ylim()[0] / 3.6, ax.get_ylim()[1] / 3.6])\n",
    "ax2.set_ylabel(\"gCO2eq/MJ$_{electricity}$\")\n",
    "\n",
    "plt.savefig(\"plot/results_timestep_avg_CI.png\", bbox_inches=\"tight\")\n",
    "ax.set_title(\"Influence of considered timestep for the consumption mix\")"
   ]
  },
  {
   "cell_type": "markdown",
   "metadata": {},
   "source": [
    "## On potential load factor"
   ]
  },
  {
   "cell_type": "code",
   "execution_count": null,
   "metadata": {},
   "outputs": [],
   "source": [
    "list_df_statistics = []\n",
    "for timestep in [\"H\", \"D\", \"W\", \"MS\", \"YS\"]:  # \"H\", \"D\",\n",
    "    print(timestep)\n",
    "    ds_mix = ede.track_mix(freq=timestep, grouped=False, grid_loss=\"TRANSL\")\n",
    "    ede.get_carbon_footprint(grouped=False)\n",
    "    df_TS = get_footprint_time_series(ds_CI=ede.ds_CI.compute())\n",
    "    df_LF = get_load_factor_below_limit(df_TS=df_TS)\n",
    "    gdf_LF = get_geodraframe(df_LF)\n",
    "    fig, ax = plot_statistics_map(gdf_LF)\n",
    "    plt.savefig(f\"plot/maps_LF_{timestep}.png\", bbox_inches=\"tight\")\n",
    "    plt.close()\n",
    "    list_df_statistics.append(\n",
    "        pd.concat([df_LF], axis=1, keys=[timestep.replace(\"S\", \"\")])\n",
    "    )\n",
    "DF_statistics = pd.concat(list_df_statistics, axis=1)"
   ]
  },
  {
   "cell_type": "code",
   "execution_count": 185,
   "metadata": {},
   "outputs": [],
   "source": [
    "DF_statistics.to_pickle(f\"{ede.datapath}/results/DF_LF.pkl\")"
   ]
  },
  {
   "cell_type": "code",
   "execution_count": 186,
   "metadata": {},
   "outputs": [],
   "source": [
    "DF_statistics = pd.read_pickle(f\"{ede.datapath}/results/DF_LF.pkl\")\n",
    "DF_statistics = DF_statistics.drop(\"GB\")\n",
    "DF_statistics = DF_statistics.rename(\n",
    "    columns={\"H\": \"Hourly\", \"D\": \"Daily\", \"W\": \"Weekly\", \"M\": \"Monthly\", \"Y\": \"Yearly\"}\n",
    ")"
   ]
  },
  {
   "cell_type": "code",
   "execution_count": 187,
   "metadata": {},
   "outputs": [],
   "source": [
    "dfp = DF_statistics.swaplevel(0, 1, axis=1).Consumption_mix\n",
    "dfp = dfp.sort_values(\"Hourly\", ascending=False)\n",
    "list_ordered = list(dfp.index)"
   ]
  },
  {
   "cell_type": "code",
   "execution_count": null,
   "metadata": {},
   "outputs": [],
   "source": [
    "fig, ax = plt.subplots(2, 1, figsize=(12, 6), sharex=True, sharey=True)\n",
    "DF_statistics.swaplevel(0, 1, axis=1).Production_mix.loc[list_ordered].plot(\n",
    "    kind=\"bar\", ax=ax[1], alpha=0.6\n",
    ")\n",
    "DF_statistics.swaplevel(0, 1, axis=1).Consumption_mix.loc[list_ordered].plot(\n",
    "    kind=\"bar\", ax=ax[0], alpha=0.6, rot=45, legend=False\n",
    ")\n",
    "ax[0].set_ylabel(\"Potential load factor \\nbelow the GHG limit\")\n",
    "ax[1].set_ylabel(\"Potential load factor \\nbelow the GHG limit\")\n",
    "ax[1].set_title(\"Influence of considered timestep for the production mix\")\n",
    "ax[0].set_title(\"Influence of considered timestep for the consumption mix\")\n",
    "ax[0].legend(loc=1)\n",
    "\n",
    "for axi in ax:\n",
    "    axib = axi.twinx()\n",
    "    axib.set_ylim([axi.get_ylim()[0] * 8760, axi.get_ylim()[1] * 8760])\n",
    "    axib.grid(False)\n",
    "    axib.set_ylabel(\"Annual number of hours \\nbelow the GHG limit\")\n",
    "\n",
    "plt.savefig(\"plot/results_timestep.png\", bbox_inches=\"tight\")"
   ]
  },
  {
   "cell_type": "code",
   "execution_count": null,
   "metadata": {},
   "outputs": [],
   "source": [
    "df = (\n",
    "    ede.ds_consumption_tracked_grouped.sel(Consumption_Countries=\"DK\")\n",
    "    .mean([\"DateTime\"])\n",
    "    .to_dataset(\"Energies\")\n",
    "    .to_dataframe()\n",
    ")\n",
    "df[\"Total\"] = df.sum(axis=1)\n",
    "df.sort_values(\"Total\", ascending=False)"
   ]
  },
  {
   "cell_type": "code",
   "execution_count": null,
   "metadata": {},
   "outputs": [],
   "source": []
  }
 ],
 "metadata": {
  "kernelspec": {
   "display_name": "python39",
   "language": "python",
   "name": "python3"
  },
  "language_info": {
   "codemirror_mode": {
    "name": "ipython",
    "version": 3
   },
   "file_extension": ".py",
   "mimetype": "text/x-python",
   "name": "python",
   "nbconvert_exporter": "python",
   "pygments_lexer": "ipython3",
   "version": "3.11.0"
  },
  "orig_nbformat": 4
 },
 "nbformat": 4,
 "nbformat_minor": 2
}
