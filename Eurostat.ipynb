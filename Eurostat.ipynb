{
 "cells": [
  {
   "cell_type": "code",
   "execution_count": null,
   "metadata": {},
   "outputs": [],
   "source": [
    "import xarray as xr\n",
    "import pandas as pd\n",
    "import numpy as np\n",
    "import eurostat\n",
    "import matplotlib.pyplot as plt\n",
    "import os\n",
    "\n",
    "plt.style.use(\"ggplot\")\n",
    "\n",
    "%load_ext jupyter_black"
   ]
  },
  {
   "cell_type": "markdown",
   "metadata": {},
   "source": [
    "# Efficiency data"
   ]
  },
  {
   "cell_type": "markdown",
   "metadata": {},
   "source": [
    "## Eurostat data"
   ]
  },
  {
   "cell_type": "markdown",
   "metadata": {},
   "source": [
    "### Download data"
   ]
  },
  {
   "cell_type": "code",
   "execution_count": 2,
   "metadata": {},
   "outputs": [],
   "source": [
    "# df = eurostat.get_toc_df() does not work anymore\n",
    "# df.head()"
   ]
  },
  {
   "cell_type": "code",
   "execution_count": 3,
   "metadata": {},
   "outputs": [],
   "source": [
    "dataset_code = \"NRG_BAL_C\"\n",
    "# df[df.code == dataset_code]"
   ]
  },
  {
   "cell_type": "code",
   "execution_count": null,
   "metadata": {},
   "outputs": [],
   "source": [
    "list_parameters = eurostat.get_pars(dataset_code)\n",
    "list_parameters"
   ]
  },
  {
   "cell_type": "code",
   "execution_count": null,
   "metadata": {},
   "outputs": [],
   "source": [
    "dict_of_dict = {}\n",
    "for parameter in list_parameters[0:]:\n",
    "    print(parameter)\n",
    "    list_values = eurostat.get_par_values(dataset_code, parameter)\n",
    "\n",
    "    print(list_values)"
   ]
  },
  {
   "cell_type": "code",
   "execution_count": 6,
   "metadata": {},
   "outputs": [],
   "source": [
    "# New with all year\n",
    "dataset_code = \"NRG_BAL_C\"\n",
    "\n",
    "# Download dictionary to rename columns with explicit names\n",
    "dict_siec = eurostat.get_dic(dataset_code, \"siec\")\n",
    "dict_siec = {key: value for (key, value) in dict_siec}\n",
    "\n",
    "dict_nrg_bal = eurostat.get_dic(dataset_code, \"nrg_bal\")\n",
    "dict_nrg_bal = {key: value for (key, value) in dict_nrg_bal}"
   ]
  },
  {
   "cell_type": "code",
   "execution_count": 7,
   "metadata": {},
   "outputs": [],
   "source": [
    "# list_nrg_values = eurostat.get_par_values(dataset_code, \"nrg_bal\")\n",
    "list_nrg_values = [\n",
    "    \"TI_EHG_MAPE_E\",\n",
    "    \"TI_EHG_APE_E\",\n",
    "    \"TI_EHG_MAPCHP_E\",\n",
    "    \"GHP_MAPCHP\",\n",
    "    \"TI_EHG_APCHP_E\",\n",
    "    \"GHP_APCHP\",\n",
    "    \"TI_EHG_EPS\",\n",
    "    \"TO_EHG_PH\",\n",
    "    \"NRG_EHG_E\",\n",
    "    \"GEP\",\n",
    "    \"TO_EHG\",\n",
    "    \"DL\",\n",
    "]\n",
    "\n",
    "\n",
    "def get_eurostat_data(year_start=2020, year_end=2023, force=False):\n",
    "    \"\"\"Return a xarray dataset in GWh\"\"\"\n",
    "    file = f\"data/ds_eurostat.nc\"\n",
    "    if not os.path.exists(file) or force:\n",
    "        print(\"Downloading data, it takes a while, be patient.\")\n",
    "        filter_pars = {\n",
    "            \"freq\": \"A\",\n",
    "            \"unit\": \"GWH\",\n",
    "            \"startPeriod\": year_start,\n",
    "            \"endPeriod\": year_end,\n",
    "            \"nrg_bal\": list_nrg_values,\n",
    "        }\n",
    "        df = eurostat.get_data_df(dataset_code, filter_pars=filter_pars)\n",
    "        # df = df[[\"nrg_bal\", \"siec\", \"geo\\TIME_PERIOD\", f\"{year}\"]]\n",
    "        df = df.drop([\"freq\", \"unit\"], axis=1)\n",
    "        df = df.rename(columns={\"siec\": \"Energies\", \"geo\\TIME_PERIOD\": \"Countries\"})\n",
    "        df = df.pivot_table(columns=[\"nrg_bal\", \"Energies\", \"Countries\"])\n",
    "        df.index = pd.to_datetime(df.index)\n",
    "        df.index.name = \"DateTime\"\n",
    "        df = df.rename(\n",
    "            columns=dict_siec, level=1\n",
    "        )  # .rename(columns=dict_nrg_bal, level=0)\n",
    "        ds = df.unstack().to_xarray()\n",
    "        ds.to_netcdf(file)\n",
    "    ds = xr.load_dataarray(file)\n",
    "    return ds"
   ]
  },
  {
   "cell_type": "code",
   "execution_count": null,
   "metadata": {},
   "outputs": [],
   "source": [
    "ds = get_eurostat_data(year_start=2020, year_end=2023, force=False)\n",
    "ds"
   ]
  },
  {
   "cell_type": "markdown",
   "metadata": {},
   "source": [
    "### Matching ENTSO-E - EUROSTAT names"
   ]
  },
  {
   "cell_type": "code",
   "execution_count": 9,
   "metadata": {},
   "outputs": [],
   "source": [
    "def energy_matching(grid=\"Natural gas\"):\n",
    "    dict_energy_entsoe_to_eurostat = {\n",
    "        \"Biomass\": \"Bioenergy\",\n",
    "        \"Fossil Brown coal/Lignite\": \"Lignite\",\n",
    "        \"Fossil Coal-derived gas\": \"Manufactured gases\",\n",
    "        \"Fossil Gas\": \"Natural gas\",\n",
    "        \"Fossil Hard coal\": \"Anthracite\",\n",
    "        \"Fossil Oil\": \"Fuel oil\",\n",
    "        \"Fossil Oil shale\": \"Oil shale and oil sands\",\n",
    "        \"Fossil Peat\": \"Peat\",\n",
    "        \"Geothermal\": \"Geothermal\",\n",
    "        \"Grid\": grid,\n",
    "        \"Hydro Pumped Storage\": \"Hydro\",\n",
    "        \"Hydro Run-of-river and poundage\": \"Hydro\",\n",
    "        \"Hydro Water Reservoir\": \"Hydro\",\n",
    "        \"Marine\": \"Tide, wave, ocean\",\n",
    "        \"Nuclear\": \"Nuclear heat\",\n",
    "        \"Other\": \"Fossil energy\",\n",
    "        \"Other renewable\": \"Renewable municipal waste\",\n",
    "        \"Solar\": \"Solar photovoltaic\",\n",
    "        \"Waste\": \"Non-renewable waste\",\n",
    "        \"Wind Offshore\": \"Wind\",\n",
    "        \"Wind Onshore\": \"Wind\",\n",
    "    }\n",
    "    return dict_energy_entsoe_to_eurostat"
   ]
  },
  {
   "cell_type": "code",
   "execution_count": 10,
   "metadata": {},
   "outputs": [],
   "source": [
    "dict_energy_entsoe_to_eurostat = energy_matching()"
   ]
  },
  {
   "cell_type": "code",
   "execution_count": 11,
   "metadata": {},
   "outputs": [],
   "source": [
    "from fuzzywuzzy import process\n",
    "\n",
    "for energy_enstoe, energy_eurostat in dict_energy_entsoe_to_eurostat.items():\n",
    "    if energy_eurostat not in ds.Energies.values:\n",
    "        print(energy_enstoe, energy_eurostat)\n",
    "        print(process.extract(energy_enstoe, ds.Energies.values))"
   ]
  },
  {
   "cell_type": "markdown",
   "metadata": {},
   "source": [
    "### Calculation of efficiency"
   ]
  },
  {
   "cell_type": "code",
   "execution_count": null,
   "metadata": {},
   "outputs": [],
   "source": [
    "# Importing data\n",
    "ds_eurostat = xr.open_dataarray(\"data/ds_eurostat.nc\")\n",
    "ds_eurostat = ds_eurostat.to_dataset(\"nrg_bal\")\n",
    "ds_eurostat = ds_eurostat.sel(\n",
    "    Energies=list(set(dict_energy_entsoe_to_eurostat.values()))\n",
    ")\n",
    "ds_eurostat = ds_eurostat.fillna(0)\n",
    "\n",
    "\n",
    "# Sum of main and autoproducer of electricity only\n",
    "ds_eurostat_electricity_only = (\n",
    "    ds_eurostat[\"TI_EHG_MAPE_E\"] + ds_eurostat[\"TI_EHG_APE_E\"]\n",
    ")\n",
    "# Difference of CHP energy use and heat generation assuming a 85% efficiency for main produceur\n",
    "ds_eurostat_CHP_main = ds_eurostat[\"TI_EHG_MAPCHP_E\"] - ds_eurostat[\"GHP_MAPCHP\"] / 0.85\n",
    "\n",
    "# Difference of CHP energy use and heat generation assuming a 85% efficiency for autoproduceur\n",
    "ds_eurostat_CHP_auto = ds_eurostat[\"TI_EHG_APCHP_E\"] - ds_eurostat[\"GHP_APCHP\"] / 0.85\n",
    "\n",
    "# Sum of main and CHP autoproduceur\n",
    "ds_eurostat_CHP = ds_eurostat_CHP_main + ds_eurostat_CHP_auto\n",
    "# Sum of electricity only and CHP\n",
    "ds_primary_energy_input = ds_eurostat_electricity_only + ds_eurostat_CHP\n",
    "ds_primary_energy_input"
   ]
  },
  {
   "cell_type": "code",
   "execution_count": 13,
   "metadata": {},
   "outputs": [],
   "source": [
    "ds_eurostat[\"E_pump\"] = ds_eurostat[\"TI_EHG_EPS\"] - ds_eurostat[\"TO_EHG_PH\"]\n",
    "ds_eurostat[\"E_own\"] = ds_eurostat[\"NRG_EHG_E\"]\n",
    "ds_eurostat[\"E_gross\"] = ds_eurostat[\"GEP\"]\n",
    "ds_eurostat[\"E_net\"] = (\n",
    "    ds_eurostat[\"GEP\"] - ds_eurostat[\"NRG_EHG_E\"] - ds_eurostat[\"E_pump\"]\n",
    ")"
   ]
  },
  {
   "cell_type": "code",
   "execution_count": null,
   "metadata": {},
   "outputs": [],
   "source": [
    "ds_efficiency = ds_eurostat.E_net / ds_primary_energy_input\n",
    "ds_efficiency"
   ]
  },
  {
   "cell_type": "markdown",
   "metadata": {},
   "source": [
    "### Visualize efficiency data"
   ]
  },
  {
   "cell_type": "code",
   "execution_count": 15,
   "metadata": {},
   "outputs": [],
   "source": [
    "import seaborn as sns"
   ]
  },
  {
   "cell_type": "code",
   "execution_count": null,
   "metadata": {},
   "outputs": [],
   "source": [
    "ds_efficiency.ffill(\"DateTime\").isel(DateTime=-1).drop(\"DateTime\").squeeze()"
   ]
  },
  {
   "cell_type": "code",
   "execution_count": null,
   "metadata": {},
   "outputs": [],
   "source": [
    "df = (\n",
    "    ds_efficiency.ffill(\"DateTime\")\n",
    "    .isel(DateTime=-1)\n",
    "    .drop(\"DateTime\")\n",
    "    .to_dataset(\"Energies\")\n",
    "    .to_dataframe()\n",
    "    * 100\n",
    ")\n",
    "fig, ax = plt.subplots(figsize=(12, 4))\n",
    "ax = sns.boxplot(df, ax=ax)\n",
    "ax.set_xticklabels(ax.get_xticklabels(), rotation=80)\n",
    "ax.set_ylim([0, 100])\n",
    "ax.set_ylabel(\"Plant efficiency (%)\")\n",
    "plt.savefig(\"plot/distribution_efficiency.png\", bbox_inches=\"tight\")\n",
    "ax.set_title(\"Distribution of national fleet efficiencies by energy sources\")"
   ]
  },
  {
   "cell_type": "markdown",
   "metadata": {},
   "source": [
    "### Exporting data"
   ]
  },
  {
   "cell_type": "code",
   "execution_count": null,
   "metadata": {},
   "outputs": [],
   "source": [
    "ds = xr.concat(\n",
    "    [\n",
    "        ds_efficiency.sel(Energies=energy_eurostat)\n",
    "        for energy_enstoe, energy_eurostat in dict_energy_entsoe_to_eurostat.items()\n",
    "    ],\n",
    "    dim=\"Energies_ENTSOE\",\n",
    ")\n",
    "ds = ds.assign_coords(\n",
    "    coords={\n",
    "        \"Energies_ENTSOE\": [\n",
    "            energy_enstoe\n",
    "            for energy_enstoe, energy_eurostat in dict_energy_entsoe_to_eurostat.items()\n",
    "        ]\n",
    "    }\n",
    ")\n",
    "ds = ds.rename({\"Energies\": \"Energies_EUROSTAT\"})\n",
    "ds.to_netcdf(\"data/ds_efficiency_EUROSTAT.nc\")\n",
    "ds"
   ]
  },
  {
   "cell_type": "markdown",
   "metadata": {},
   "source": [
    "## IEA data"
   ]
  },
  {
   "cell_type": "markdown",
   "metadata": {},
   "source": [
    "### Loading data"
   ]
  },
  {
   "cell_type": "markdown",
   "metadata": {},
   "source": [
    "- Data downloaded from using the script on github (not sure we can share those data)"
   ]
  },
  {
   "cell_type": "code",
   "execution_count": null,
   "metadata": {},
   "outputs": [],
   "source": [
    "# Importing data\n",
    "\n",
    "list_dataset = os.listdir(\"data/IEA\")\n",
    "list_dataset = [ds.split(\".\")[0] for ds in list_dataset]\n",
    "list_ds = []\n",
    "for dataset in list_dataset:\n",
    "    print(dataset)\n",
    "    ds = xr.load_dataarray(f\"data/IEA/{dataset}.nc\")\n",
    "    # display(ds)\n",
    "    if dataset == \"ELECTRICITYANDHEAT\":\n",
    "        ds = ds.rename({\"flowLabel\": \"Energies\", \"productLabel\": \"nrg_bal\"})\n",
    "    else:\n",
    "        ds = ds.rename({\"productLabel\": \"Energies\", \"flowLabel\": \"nrg_bal\"})\n",
    "    if dataset == \"RENEWABLES\":\n",
    "        df = ds.to_dataset(\"Energies\").to_dataframe()\n",
    "        df[\"Biofuels\"] = df[\n",
    "            [\"Primary solid biofuels\", \"Liquid biofuels\", \"Biogases\"]\n",
    "        ].sum(axis=1)\n",
    "        df[\"Waste\"] = df[[\"Industrial waste\", \"Municipal waste\"]].sum(axis=1)\n",
    "        df.columns.name = \"Energies\"\n",
    "        ds = df.stack().to_xarray()\n",
    "    # display(ds)\n",
    "    list_ds.append(ds)\n",
    "\n",
    "# Merging data\n",
    "ds = xr.concat(list_ds, dim=\"Energy_Group\")\n",
    "ds = ds.assign_coords(coords={\"Energy_Group\": list_dataset})"
   ]
  },
  {
   "cell_type": "markdown",
   "metadata": {},
   "source": [
    "### Matching name"
   ]
  },
  {
   "cell_type": "code",
   "execution_count": null,
   "metadata": {},
   "outputs": [],
   "source": [
    "xr.load_dataarray(f\"data/IEA/ELECTRICITYANDHEAT.nc\").flowLabel.values"
   ]
  },
  {
   "cell_type": "code",
   "execution_count": 21,
   "metadata": {},
   "outputs": [],
   "source": [
    "list_energies = [\n",
    "    \"Biofuels\",\n",
    "    \"Coal\",\n",
    "    \"Geothermal\",\n",
    "    \"Hydro\",\n",
    "    \"Natural gas\",\n",
    "    \"Nuclear\",\n",
    "    \"Oil\",\n",
    "    # \"Other non-specified\",\n",
    "    # \"Other sources\",\n",
    "    \"Solar PV\",\n",
    "    \"Tide\",\n",
    "    \"Waste\",\n",
    "    \"Wind\",\n",
    "]"
   ]
  },
  {
   "cell_type": "code",
   "execution_count": 22,
   "metadata": {},
   "outputs": [],
   "source": [
    "def energy_matching_IEA(grid=\"Natural gas\"):\n",
    "    # Choose among energies for which we have electricity\n",
    "    dict_energy_entsoe_to_IEA = {\n",
    "        \"Biomass\": \"Biofuels\",\n",
    "        \"Fossil Brown coal/Lignite\": \"Coal\",\n",
    "        \"Fossil Coal-derived gas\": \"Coal\",\n",
    "        \"Fossil Gas\": \"Natural gas\",\n",
    "        \"Fossil Hard coal\": \"Coal\",\n",
    "        \"Fossil Oil\": \"Oil\",\n",
    "        \"Fossil Oil shale\": \"Oil\",\n",
    "        \"Fossil Peat\": \"Coal\",\n",
    "        \"Geothermal\": \"Geothermal\",\n",
    "        \"Grid\": grid,\n",
    "        \"Hydro Pumped Storage\": \"Hydro\",\n",
    "        \"Hydro Run-of-river and poundage\": \"Hydro\",\n",
    "        \"Hydro Water Reservoir\": \"Hydro\",\n",
    "        \"Marine\": \"Tide\",\n",
    "        \"Nuclear\": \"Nuclear\",\n",
    "        \"Other\": \"Oil\",\n",
    "        \"Other renewable\": \"Solar PV\",\n",
    "        \"Solar\": \"Solar PV\",\n",
    "        \"Waste\": \"Waste\",\n",
    "        \"Wind Offshore\": \"Wind\",\n",
    "        \"Wind Onshore\": \"Wind\",\n",
    "    }\n",
    "    return dict_energy_entsoe_to_IEA\n",
    "\n",
    "\n",
    "dict_energy_entsoe_to_IEA = energy_matching_IEA()"
   ]
  },
  {
   "cell_type": "code",
   "execution_count": 23,
   "metadata": {},
   "outputs": [],
   "source": [
    "from fuzzywuzzy import process\n",
    "\n",
    "for energy_enstoe, energy_eurostat in dict_energy_entsoe_to_IEA.items():\n",
    "    if energy_eurostat not in ds.Energies.values:\n",
    "        print(energy_enstoe, energy_eurostat)\n",
    "        print(process.extract(energy_enstoe, ds.productLabel.values))"
   ]
  },
  {
   "cell_type": "markdown",
   "metadata": {},
   "source": [
    "### Calculation"
   ]
  },
  {
   "cell_type": "code",
   "execution_count": 24,
   "metadata": {},
   "outputs": [],
   "source": [
    "# Energy input for electricity\n",
    "ds_primary_energy_input = (\n",
    "    xr.apply_ufunc(\n",
    "        np.abs, ds.sel(nrg_bal=[\"Electricity plants\", \"CHP plants\", \"Heat plants\"])\n",
    "    )\n",
    "    .sel(Energy_Group=[\"BALANCES\", \"RENEWABLES\"])\n",
    "    .sum(dim=[\"Energy_Group\", \"nrg_bal\"])\n",
    "    - ds.sel(nrg_bal=\"Heat\", Energy_Group=\"ELECTRICITYANDHEAT\") / 0.85\n",
    ")\n",
    "# Electricity output\n",
    "ds_electricity_output = (\n",
    "    ds.sel(nrg_bal=\"Electricity\", Energy_Group=\"ELECTRICITYANDHEAT\") * 3.6\n",
    ")  # to convert GWh into TJ\n",
    "ds_electricity_output = ds_electricity_output.where(ds_electricity_output > 0, np.nan)\n",
    "\n",
    "# Efficiency\n",
    "ds_efficiency = ds_electricity_output / ds_primary_energy_input"
   ]
  },
  {
   "cell_type": "code",
   "execution_count": null,
   "metadata": {},
   "outputs": [],
   "source": [
    "ds_efficiency.sel(Energies=list_energies, country=\"WORLD\").drop([\"country\"]).to_dataset(\n",
    "    \"Energies\"\n",
    ").to_dataframe().tail()"
   ]
  },
  {
   "cell_type": "code",
   "execution_count": null,
   "metadata": {},
   "outputs": [],
   "source": [
    "dfp = (\n",
    "    ds_efficiency.sel(Energies=list_energies, country=\"WORLD\")\n",
    "    .drop(\"country\")\n",
    "    .drop(\"Energy_Group\")\n",
    "    .to_dataset(\"Energies\")\n",
    "    .to_dataframe()\n",
    ")\n",
    "dfp[dfp < 0] = 0\n",
    "dfp = dfp.dropna(axis=1, how=\"all\")\n",
    "fig, ax = plt.subplots(figsize=(6, 3))\n",
    "(dfp * 100).plot(ax=ax)\n",
    "plt.legend(bbox_to_anchor=(1, 1))\n",
    "ax.set_ylabel(\"Plant efficiency (%)\")\n",
    "ax.set_title(\"Evolution of power plant efficiency\\n considering heat allocation*\")"
   ]
  },
  {
   "cell_type": "code",
   "execution_count": null,
   "metadata": {},
   "outputs": [],
   "source": [
    "# Check values\n",
    "energy = \"Natural gas\"\n",
    "country = \"FRA\"\n",
    "year = \"2021\"\n",
    "print(\"Electricity output in TJ\")\n",
    "display(\n",
    "    ds_electricity_output.sel(\n",
    "        country=country, Energies=energy, year=year\n",
    "    ).to_dataframe()\n",
    ")\n",
    "print(\"Energy input in TJ\")\n",
    "display(\n",
    "    ds_primary_energy_input.sel(\n",
    "        country=country, Energies=energy, year=year\n",
    "    ).to_dataframe()\n",
    ")\n",
    "print(\"Efficiency\")\n",
    "display(ds_efficiency.sel(country=country, Energies=energy, year=year).to_dataframe())"
   ]
  },
  {
   "cell_type": "markdown",
   "metadata": {},
   "source": [
    "### Visualisation"
   ]
  },
  {
   "cell_type": "code",
   "execution_count": null,
   "metadata": {},
   "outputs": [],
   "source": [
    "import seaborn as sns\n",
    "\n",
    "df = (\n",
    "    ds_efficiency.sel(Energies=list_energies)\n",
    "    .ffill(\"year\")\n",
    "    .isel(year=-1)\n",
    "    .drop(\"year\")\n",
    "    .drop(\"Energy_Group\")\n",
    "    .to_dataset(\"Energies\")\n",
    "    .to_dataframe()\n",
    "    * 100\n",
    ")\n",
    "df[df < 0] = np.nan\n",
    "fig, ax = plt.subplots(figsize=(12, 4))\n",
    "ax = sns.boxplot(df, ax=ax)\n",
    "ax.set_xticklabels(ax.get_xticklabels(), rotation=80)\n",
    "ax.set_ylim([0, 100])\n",
    "ax.set_ylabel(\"Plant efficiency (%)\")\n",
    "plt.savefig(\"plot/distribution_efficiency_IEA_data.png\", bbox_inches=\"tight\")\n",
    "ax.set_title(\"Distribution of national fleet efficiencies by energy sources\")"
   ]
  },
  {
   "cell_type": "code",
   "execution_count": null,
   "metadata": {},
   "outputs": [],
   "source": [
    "df.Geothermal.describe()"
   ]
  },
  {
   "cell_type": "code",
   "execution_count": null,
   "metadata": {},
   "outputs": [],
   "source": [
    "df[df[\"Natural gas\"] > 100]"
   ]
  },
  {
   "cell_type": "markdown",
   "metadata": {},
   "source": [
    "### Exporting data"
   ]
  },
  {
   "cell_type": "code",
   "execution_count": null,
   "metadata": {},
   "outputs": [],
   "source": [
    "ds = xr.concat(\n",
    "    [\n",
    "        ds_efficiency.sel(Energies=energy_IEA)\n",
    "        for energy_enstoe, energy_IEA in dict_energy_entsoe_to_IEA.items()\n",
    "    ],\n",
    "    dim=\"Energies_ENTSOE\",\n",
    ")\n",
    "ds = ds.assign_coords(\n",
    "    coords={\n",
    "        \"Energies_ENTSOE\": [\n",
    "            energy_enstoe\n",
    "            for energy_enstoe, energy_IEA in dict_energy_entsoe_to_IEA.items()\n",
    "        ]\n",
    "    }\n",
    ")\n",
    "ds = ds.rename({\"Energies\": \"Energies_IEA\"})\n",
    "ds.to_netcdf(\"data/ds_efficiency_IEA.nc\")\n",
    "ds"
   ]
  },
  {
   "cell_type": "markdown",
   "metadata": {},
   "source": [
    "# Merge efficiency data"
   ]
  },
  {
   "cell_type": "code",
   "execution_count": null,
   "metadata": {},
   "outputs": [],
   "source": [
    "ds_efficiency = xr.load_dataarray(\"data/ds_efficiency_EUROSTAT.nc\")\n",
    "ds_efficiency = ds_efficiency.drop(\"Energies_EUROSTAT\")\n",
    "ds_efficiency = ds_efficiency.rename({\"Energies_ENTSOE\": \"Energies\"})\n",
    "ds_efficiency = ds_efficiency.rename({\"Countries\": \"Production_Countries\"})\n",
    "# ds_efficiency = ds_efficiency.mean(dim=\"DateTime\")\n",
    "ds_efficiency = ds_efficiency.ffill(\"DateTime\").isel(DateTime=-1).drop(\"DateTime\")\n",
    "df_efficiency_eurostat = ds_efficiency.to_dataset(\"Energies\").to_dataframe()\n",
    "df_efficiency_eurostat.head()"
   ]
  },
  {
   "cell_type": "code",
   "execution_count": null,
   "metadata": {},
   "outputs": [],
   "source": [
    "ds_efficiency = xr.load_dataarray(\"data/ds_efficiency_IEA.nc\")\n",
    "ds_efficiency = ds_efficiency.drop(\"Energy_Group\").drop(\"Energies_IEA\")\n",
    "ds_efficiency = ds_efficiency.ffill(\"year\").isel(year=-1).drop(\"year\")\n",
    "ds_efficiency = ds_efficiency.rename({\"Energies_ENTSOE\": \"Energies\"})\n",
    "ds_efficiency = ds_efficiency.rename({\"country\": \"Production_Countries\"})\n",
    "df_efficiency_IEA = ds_efficiency.to_dataset(\"Energies\").to_dataframe()\n",
    "df_efficiency_IEA.head()"
   ]
  },
  {
   "cell_type": "code",
   "execution_count": 34,
   "metadata": {},
   "outputs": [],
   "source": [
    "# List ENTSOE countries\n",
    "list_countries = [\n",
    "    \"AL\",\n",
    "    \"AM\",\n",
    "    \"AT\",\n",
    "    \"AZ\",\n",
    "    \"BA\",\n",
    "    \"BE\",\n",
    "    \"BG\",\n",
    "    \"BY\",\n",
    "    \"CH\",\n",
    "    \"CZ\",\n",
    "    \"DE\",\n",
    "    \"DK\",\n",
    "    \"EE\",\n",
    "    \"ES\",\n",
    "    \"FI\",\n",
    "    \"FR\",\n",
    "    \"GB\",\n",
    "    \"GE\",\n",
    "    \"GR\",\n",
    "    \"HR\",\n",
    "    \"HU\",\n",
    "    \"IE\",\n",
    "    \"IT\",\n",
    "    \"LT\",\n",
    "    \"LU\",\n",
    "    \"LV\",\n",
    "    \"MD\",\n",
    "    \"ME\",\n",
    "    \"MK\",\n",
    "    \"MT\",\n",
    "    \"NL\",\n",
    "    \"NO\",\n",
    "    \"PL\",\n",
    "    \"PT\",\n",
    "    \"RO\",\n",
    "    \"RS\",\n",
    "    \"RU\",\n",
    "    \"SE\",\n",
    "    \"SI\",\n",
    "    \"SK\",\n",
    "    \"TR\",\n",
    "    \"UA\",\n",
    "    \"XK\",\n",
    "]"
   ]
  },
  {
   "cell_type": "code",
   "execution_count": null,
   "metadata": {},
   "outputs": [],
   "source": [
    "import pycountry\n",
    "\n",
    "\n",
    "def convert_to_ISO2(country):\n",
    "    if country == \"UNK\":\n",
    "        country = \"XK\"\n",
    "    if len(country) == 3:\n",
    "        country = pycountry.countries.get(alpha_3=country).alpha_2\n",
    "    return country\n",
    "\n",
    "\n",
    "df_efficiency_IEA.index = [\n",
    "    convert_to_ISO2(country) for country in df_efficiency_IEA.index\n",
    "]\n",
    "df_efficiency_IEA.head()"
   ]
  },
  {
   "cell_type": "code",
   "execution_count": null,
   "metadata": {},
   "outputs": [],
   "source": [
    "# Completing the EUROSTAT data with IEA data when data are missing\n",
    "df_efficiency = df_efficiency_eurostat.combine_first(df_efficiency_IEA)\n",
    "df_efficiency[df_efficiency < 0] = np.nan\n",
    "df_efficiency.columns.name = \"Energies\"\n",
    "df_efficiency.index.name = \"Production_Countries\"\n",
    "ds_efficiency = df_efficiency.stack().to_xarray()\n",
    "ds_efficiency.to_netcdf(\"data/ds_efficiency_combined.nc\")\n",
    "ds_efficiency"
   ]
  },
  {
   "cell_type": "code",
   "execution_count": 37,
   "metadata": {},
   "outputs": [],
   "source": [
    "def fill_efficiency_missing_data(self, ds, filling_quantile=0.10):\n",
    "    # Missing countries\n",
    "    list_missing_countries = list(\n",
    "        set(self.ds_consumption_tracked.Production_Countries.values)\n",
    "        - set(ds.Production_Countries.values)\n",
    "    )\n",
    "    print(\"Missing countries:\")\n",
    "    print(list_missing_countries)\n",
    "    df = ds.to_dataset(\"Energies\").to_dataframe()\n",
    "    # Removing negative values due to missing data\n",
    "    df[df < 0] = np.nan\n",
    "    # Add missing countries\n",
    "    df_missing = pd.DataFrame(columns=df.columns, index=list_missing_countries)\n",
    "    df_missing.index.name = df.index.name\n",
    "    df = pd.concat([df, df_missing])\n",
    "    df.columns.name = \"Energies\"\n",
    "    df = df.fillna(df.quantile(filling_quantile))\n",
    "    ds = df.unstack().to_xarray()\n",
    "    ds = ds.sel(\n",
    "        Production_Countries=self.ds_consumption_tracked.Production_Countries.values\n",
    "    )\n",
    "    return ds\n",
    "\n",
    "\n",
    "def get_efficiency_data(self, filling_quantile=0.1):\n",
    "    \"\"\"Return the efficiency dataset based on EUROSTAT data\"\"\"\n",
    "    ds_efficiency = xr.load_dataarray(\"data/ds_efficiency.nc\")\n",
    "    ds_efficiency = ds_efficiency.drop(\"Energies_EUROSTAT\")\n",
    "    ds_efficiency = ds_efficiency.rename({\"Energies_ENTSOE\": \"Energies\"})\n",
    "    ds_efficiency = ds_efficiency.rename({\"Countries\": \"Production_Countries\"})\n",
    "    ds_efficiency = ds_efficiency.mean(dim=\"DateTime\")\n",
    "    ds_efficiency = self.fill_efficiency_missing_data(\n",
    "        ds=ds_efficiency, filling_quantile=filling_quantile\n",
    "    )\n",
    "    return ds_efficiency"
   ]
  },
  {
   "cell_type": "markdown",
   "metadata": {},
   "source": [
    "# Emissions factor"
   ]
  },
  {
   "cell_type": "code",
   "execution_count": null,
   "metadata": {},
   "outputs": [],
   "source": [
    "# Importing data from emission_factors_energy_products\n",
    "df_fuels = pd.read_csv(\n",
    "    \"data/emission_factors_energy_products.csv\",\n",
    "    header=[0, 1],\n",
    "    index_col=1,\n",
    "    delimiter=\";\",\n",
    ")\n",
    "df_fuels.head()"
   ]
  },
  {
   "cell_type": "code",
   "execution_count": null,
   "metadata": {},
   "outputs": [],
   "source": [
    "# Extracting emmission factor\n",
    "df_ef = df_fuels[\"kg/TJ\"]\n",
    "df_ef.head()\n",
    "df_ef.columns = [col.replace(\"ef\", \"\") for col in df_ef.columns]\n",
    "df_ef.head()"
   ]
  },
  {
   "cell_type": "code",
   "execution_count": null,
   "metadata": {},
   "outputs": [],
   "source": [
    "# Calculating the equivalent carbon footprint\n",
    "GWP_factors = {\"CO2\": 1, \"CH4\": 25, \"N2O\": 298}\n",
    "df_ef_CO2eq = df_ef.multiply(GWP_factors)\n",
    "df_ef_CO2eq[\"Total\"] = df_ef_CO2eq.sum(axis=1)\n",
    "\n",
    "# Concatenating all data together\n",
    "df_ef_CO2eq = pd.concat([df_ef_CO2eq], axis=1, keys=[\"kg CO2eq / TJ (combustion)\"])\n",
    "df_fuels = pd.concat([df_fuels, df_ef_CO2eq], axis=1)\n",
    "df_fuels.head()"
   ]
  },
  {
   "cell_type": "code",
   "execution_count": null,
   "metadata": {},
   "outputs": [],
   "source": [
    "dfp = pd.DataFrame()\n",
    "dfp[\"Upstream\"] = df_fuels[\"kg CO2eq / TJ\"][\"UpstreamE3\"]\n",
    "dfp[\"Combustion\"] = df_fuels[\"kg CO2eq / TJ (combustion)\"][\"Total\"]\n",
    "\n",
    "fig, ax = plt.subplots(figsize=(8, 12))\n",
    "ax2 = ax.twiny()\n",
    "(dfp * 1e3 / 1e6).plot(ax=ax, kind=\"barh\", stacked=True, alpha=0.5)\n",
    "(dfp / 1e6 * 3.6 * 1e3).plot(ax=ax2, kind=\"barh\", stacked=True, alpha=0.5)\n",
    "ax.set_title(\"Observation of life-cycle emissions\")\n",
    "ax.set_xlabel(\"gCO2eq / MJ_primary_energy\")\n",
    "ax2.set_xlabel(\"gCO2eq / kWh_primary energy\")\n",
    "ax2.grid(False)"
   ]
  },
  {
   "cell_type": "code",
   "execution_count": null,
   "metadata": {},
   "outputs": [],
   "source": [
    "df = dfp / 1e6 * 3.6 * 1e3\n",
    "df.loc[\"Fossil energy\"] = df.loc[\"Fuel oil\"]\n",
    "df.loc[\"Bioenergy\"] = df.loc[\"Biogases\"]\n",
    "\n",
    "df.index.name = \"Energies_EUROSTAT\"\n",
    "df.columns.name = \"Emission_phase\"\n",
    "ds_EF = df.unstack().to_xarray()\n",
    "ds_EF"
   ]
  },
  {
   "cell_type": "code",
   "execution_count": 44,
   "metadata": {},
   "outputs": [],
   "source": [
    "ds = xr.concat(\n",
    "    [\n",
    "        ds_EF.sel(Energies_EUROSTAT=energy_eurostat)\n",
    "        for energy_enstoe, energy_eurostat in dict_energy_entsoe_to_eurostat.items()\n",
    "    ],\n",
    "    dim=\"Energies_ENTSOE\",\n",
    ")\n",
    "ds = ds.assign_coords(\n",
    "    coords={\n",
    "        \"Energies_ENTSOE\": [\n",
    "            energy_enstoe\n",
    "            for energy_enstoe, energy_eurostat in dict_energy_entsoe_to_eurostat.items()\n",
    "        ]\n",
    "    }\n",
    ")\n",
    "ds.to_netcdf(\"data/ds_emissions_factors.nc\")"
   ]
  },
  {
   "cell_type": "code",
   "execution_count": null,
   "metadata": {},
   "outputs": [],
   "source": [
    "ds"
   ]
  },
  {
   "cell_type": "markdown",
   "metadata": {},
   "source": [
    "# Losses"
   ]
  },
  {
   "cell_type": "code",
   "execution_count": 46,
   "metadata": {},
   "outputs": [],
   "source": [
    "# list_nrg_values = eurostat.get_par_values(dataset_code, \"nrg_bal\")\n",
    "list_loss_values = [\"LOSS\", \"TL\", \"TRANSL\", \"DL\", \"DL_NT\", \"TRANSL_DL\"]"
   ]
  },
  {
   "cell_type": "code",
   "execution_count": null,
   "metadata": {},
   "outputs": [],
   "source": [
    "for col in list_loss_values:\n",
    "    print(f\"{col}: {dict_nrg_bal[col]}\")"
   ]
  },
  {
   "cell_type": "code",
   "execution_count": 48,
   "metadata": {},
   "outputs": [],
   "source": [
    "def get_eurostat_loss_data(year_start=2020, year_end=2023, force=False):\n",
    "    \"\"\"Return a xarray dataset in GWh\"\"\"\n",
    "    file = f\"data/ds_eurostat_loss.nc\"\n",
    "    if not os.path.exists(file) or force:\n",
    "        print(\"Downloading data, it takes a while, be patient.\")\n",
    "        filter_pars = {\n",
    "            \"freq\": \"A\",\n",
    "            \"unit\": \"GWH\",\n",
    "            \"startPeriod\": year_start,\n",
    "            \"endPeriod\": year_end,\n",
    "            \"nrg_bal\": [\"NEP\", \"LOSS\", \"DL\", \"DL_NT\", \"TRANSL\"],\n",
    "        }\n",
    "        df = eurostat.get_data_df(\"nrg_cb_e\", filter_pars=filter_pars)\n",
    "        # df = df[[\"nrg_bal\", \"siec\", \"geo\\TIME_PERIOD\", f\"{year}\"]]\n",
    "        df = df.drop([\"freq\", \"unit\"], axis=1)\n",
    "        df = df.rename(columns={\"siec\": \"Energies\", \"geo\\TIME_PERIOD\": \"Countries\"})\n",
    "        df = df.pivot_table(columns=[\"nrg_bal\", \"Energies\", \"Countries\"])\n",
    "        df.index = pd.to_datetime(df.index)\n",
    "        df.index.name = \"DateTime\"\n",
    "        df = df.rename(\n",
    "            columns=dict_siec, level=1\n",
    "        )  # .rename(columns=dict_nrg_bal, level=0)\n",
    "        ds = df.unstack().to_xarray()\n",
    "        ds = ds / ds.sel(nrg_bal=\"NEP\")\n",
    "        ds = ds.sel(Energies=\"Electricity\")\n",
    "        ds.to_netcdf(file)\n",
    "    ds = xr.load_dataarray(file)\n",
    "    return ds"
   ]
  },
  {
   "cell_type": "code",
   "execution_count": null,
   "metadata": {},
   "outputs": [],
   "source": [
    "ds = get_eurostat_loss_data(year_start=2020, year_end=2023, force=False)\n",
    "ds"
   ]
  },
  {
   "cell_type": "code",
   "execution_count": null,
   "metadata": {},
   "outputs": [],
   "source": [
    "ds.sel(nrg_bal=\"TRANSL\").ffill(\"DateTime\").isel(DateTime=-1).to_dataframe(\"gl\")"
   ]
  },
  {
   "cell_type": "markdown",
   "metadata": {},
   "source": [
    "## Plot of grid lossess"
   ]
  },
  {
   "cell_type": "code",
   "execution_count": 55,
   "metadata": {},
   "outputs": [],
   "source": [
    "from ecodynelec.statistics_LF import *\n",
    "\n",
    "df = (\n",
    "    ds.sel(nrg_bal=\"TRANSL\", DateTime=\"2022\")\n",
    "    .drop_vars([\"nrg_bal\", \"Energies\", \"DateTime\"])\n",
    "    .to_dataframe(\"grid_losses\")\n",
    ")\n",
    "df = df.droplevel(1, 0)\n",
    "gdf = get_geodraframe(df * 100)"
   ]
  },
  {
   "cell_type": "code",
   "execution_count": null,
   "metadata": {},
   "outputs": [],
   "source": [
    "gdf.head()"
   ]
  },
  {
   "cell_type": "code",
   "execution_count": null,
   "metadata": {},
   "outputs": [],
   "source": [
    "fig, ax = plt.subplots()\n",
    "gdf.plot(\n",
    "    \"grid_losses\",\n",
    "    ax=ax,\n",
    "    cmap=\"Blues\",\n",
    "    edgecolor=\"k\",\n",
    "    legend=True,\n",
    "    # vmin=0,\n",
    "    # vmax=1,\n",
    "    legend_kwds={\n",
    "        \"location\": \"bottom\",\n",
    "        \"label\": \"Grid losses (%)\",\n",
    "    },\n",
    ")\n",
    "ax.set_xlim([2e6, 6e6])\n",
    "ax.set_ylim([1.4e6, 5e6])\n",
    "\n",
    "ax.grid(False)\n",
    "ax.axis(\"off\")"
   ]
  },
  {
   "cell_type": "code",
   "execution_count": null,
   "metadata": {},
   "outputs": [],
   "source": [
    "df.describe()"
   ]
  },
  {
   "cell_type": "code",
   "execution_count": null,
   "metadata": {},
   "outputs": [],
   "source": [
    "country = \"IT\"\n",
    "ds.sel(Countries=country).plot(hue=\"nrg_bal\")\n",
    "ds.sel(Countries=country).to_dataset(\"nrg_bal\").to_dataframe()"
   ]
  },
  {
   "cell_type": "code",
   "execution_count": null,
   "metadata": {},
   "outputs": [],
   "source": [
    "df = (\n",
    "    ds.sel(DateTime=\"2022\")\n",
    "    .drop_vars([\"Energies\", \"DateTime\"])\n",
    "    .to_dataset(\"nrg_bal\")\n",
    "    .to_dataframe()\n",
    ")\n",
    "df = df.droplevel(1, 0)\n",
    "gdf = get_geodraframe(df * 100)\n",
    "gdf.head()"
   ]
  },
  {
   "cell_type": "code",
   "execution_count": null,
   "metadata": {},
   "outputs": [],
   "source": [
    "# Almost no data for non technical distribution losses (i.e. thief)\n",
    "gdf.DL_NT.replace(0, np.nan).dropna()"
   ]
  },
  {
   "cell_type": "code",
   "execution_count": null,
   "metadata": {},
   "outputs": [],
   "source": [
    "fig, ax = plt.subplots(1, 3, sharex=True, sharey=True, figsize=(16, 6))\n",
    "gdf.plot(\n",
    "    \"DL\",\n",
    "    ax=ax[0],\n",
    "    cmap=\"Blues\",\n",
    "    edgecolor=\"k\",\n",
    "    legend=True,\n",
    "    vmin=0,\n",
    "    vmax=18,\n",
    "    legend_kwds={\n",
    "        \"location\": \"bottom\",\n",
    "        \"label\": \"Grid losses (%)\",\n",
    "    },\n",
    ")\n",
    "ax[0].grid(False)\n",
    "ax[0].axis(\"off\")\n",
    "ax[0].set_title(\"Distribution losses\")\n",
    "\n",
    "gdf.plot(\n",
    "    \"TRANSL\",\n",
    "    ax=ax[1],\n",
    "    cmap=\"Blues\",\n",
    "    edgecolor=\"k\",\n",
    "    legend=True,\n",
    "    vmin=0,\n",
    "    vmax=18,\n",
    "    legend_kwds={\n",
    "        \"location\": \"bottom\",\n",
    "        \"label\": \"Grid losses (%)\",\n",
    "    },\n",
    ")\n",
    "ax[1].grid(False)\n",
    "ax[1].axis(\"off\")\n",
    "ax[1].set_title(\"Transport losses\")\n",
    "\n",
    "gdf.plot(\n",
    "    \"LOSS\",\n",
    "    ax=ax[2],\n",
    "    cmap=\"Blues\",\n",
    "    edgecolor=\"k\",\n",
    "    legend=True,\n",
    "    vmin=0,\n",
    "    vmax=18,\n",
    "    legend_kwds={\n",
    "        \"location\": \"bottom\",\n",
    "        \"label\": \"Grid losses (%)\",\n",
    "    },\n",
    ")\n",
    "ax[2].grid(False)\n",
    "ax[2].axis(\"off\")\n",
    "ax[2].set_title(\"T&D losses\")\n",
    "\n",
    "ax[0].set_xlim([2e6, 6e6])\n",
    "ax[0].set_ylim([1.4e6, 5e6])"
   ]
  },
  {
   "cell_type": "code",
   "execution_count": null,
   "metadata": {},
   "outputs": [],
   "source": []
  }
 ],
 "metadata": {
  "kernelspec": {
   "display_name": "python39",
   "language": "python",
   "name": "python3"
  },
  "language_info": {
   "codemirror_mode": {
    "name": "ipython",
    "version": 3
   },
   "file_extension": ".py",
   "mimetype": "text/x-python",
   "name": "python",
   "nbconvert_exporter": "python",
   "pygments_lexer": "ipython3",
   "version": "3.11.0"
  }
 },
 "nbformat": 4,
 "nbformat_minor": 2
}
